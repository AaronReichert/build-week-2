{
  "nbformat": 4,
  "nbformat_minor": 0,
  "metadata": {
    "kernelspec": {
      "display_name": "Python 3",
      "language": "python",
      "name": "python3"
    },
    "language_info": {
      "codemirror_mode": {
        "name": "ipython",
        "version": 3
      },
      "file_extension": ".py",
      "mimetype": "text/x-python",
      "name": "python",
      "nbconvert_exporter": "python",
      "pygments_lexer": "ipython3",
      "version": "3.7.6"
    },
    "colab": {
      "name": "crash.ipynb",
      "provenance": [],
      "include_colab_link": true
    }
  },
  "cells": [
    {
      "cell_type": "markdown",
      "metadata": {
        "id": "view-in-github",
        "colab_type": "text"
      },
      "source": [
        "<a href=\"https://colab.research.google.com/github/AaronReichert/build-week-2/blob/master/crash.ipynb\" target=\"_parent\"><img src=\"https://colab.research.google.com/assets/colab-badge.svg\" alt=\"Open In Colab\"/></a>"
      ]
    },
    {
      "cell_type": "code",
      "metadata": {
        "id": "SJNRNUkVY9P4",
        "colab_type": "code",
        "colab": {}
      },
      "source": [
        "# %%capture\n",
        "# import sys\n",
        " \n",
        "# # If you're on Colab:\n",
        "# if 'google.colab' in sys.modules:\n",
        "#     DATA_PATH = 'https://raw.githubusercontent.com/LambdaSchool/DS-Unit-2-Applied-Modeling/master/data/'\n",
        "#     !pip install category_encoders==2.*\n",
        "#     !pip install eli5\n",
        "#     !pip install pdpbox\n",
        "#     !pip install shap\n",
        " \n",
        "# # If you're working locally:\n",
        "# else:\n",
        "#     DATA_PATH = '../data/'"
      ],
      "execution_count": 1,
      "outputs": []
    },
    {
      "cell_type": "code",
      "metadata": {
        "id": "HQ9qaB3CY9P8",
        "colab_type": "code",
        "colab": {}
      },
      "source": [
        "%%capture\n",
        "!pip install category_encoders==2.*"
      ],
      "execution_count": 2,
      "outputs": []
    },
    {
      "cell_type": "code",
      "metadata": {
        "id": "oM_dQ-CPlyBd",
        "colab_type": "code",
        "colab": {
          "base_uri": "https://localhost:8080/",
          "height": 250
        },
        "outputId": "b788964b-13cb-488a-99d0-911691931679"
      },
      "source": [
        "# important imports\n",
        "import pandas as pd\n",
        "import matplotlib.pyplot as plt\n",
        "import plotly.express as px\n",
        "from sklearn import preprocessing\n",
        "import seaborn as sns\n",
        "from sklearn.ensemble import RandomForestRegressor\n",
        "from sklearn.ensemble import RandomForestClassifier\n",
        "from sklearn.model_selection import cross_val_score\n",
        "from sklearn.pipeline import make_pipeline\n",
        "from sklearn.impute import SimpleImputer\n",
        "from sklearn.model_selection import train_test_split\n",
        "import category_encoders as ce\n",
        "from sklearn.tree import DecisionTreeClassifier\n",
        "from sklearn.linear_model import LogisticRegression\n",
        "import numpy as np\n",
        "from xgboost import XGBClassifier\n",
        "from sklearn.metrics import plot_confusion_matrix\n",
        "from sklearn.metrics import confusion_matrix\n",
        "from sklearn.metrics import recall_score\n",
        "from sklearn.metrics import precision_score\n",
        "from sklearn.svm import SVC\n",
        "from sklearn.preprocessing import StandardScaler\n",
        "from collections import Counter\n",
        "from sklearn.datasets import make_classification\n",
        "from imblearn.under_sampling import RandomUnderSampler\n",
        "from sklearn.metrics import classification_report"
      ],
      "execution_count": 3,
      "outputs": [
        {
          "output_type": "stream",
          "text": [
            "/usr/local/lib/python3.6/dist-packages/statsmodels/tools/_testing.py:19: FutureWarning:\n",
            "\n",
            "pandas.util.testing is deprecated. Use the functions in the public API at pandas.testing instead.\n",
            "\n",
            "/usr/local/lib/python3.6/dist-packages/sklearn/externals/six.py:31: FutureWarning:\n",
            "\n",
            "The module is deprecated in version 0.21 and will be removed in version 0.23 since we've dropped support for Python 2.7. Please rely on the official version of six (https://pypi.org/project/six/).\n",
            "\n",
            "/usr/local/lib/python3.6/dist-packages/sklearn/utils/deprecation.py:144: FutureWarning:\n",
            "\n",
            "The sklearn.neighbors.base module is  deprecated in version 0.22 and will be removed in version 0.24. The corresponding classes / functions should instead be imported from sklearn.neighbors. Anything that cannot be imported from sklearn.neighbors is now part of the private API.\n",
            "\n"
          ],
          "name": "stderr"
        }
      ]
    },
    {
      "cell_type": "code",
      "metadata": {
        "id": "VwEz-RH6TQ9n",
        "colab_type": "code",
        "colab": {
          "base_uri": "https://localhost:8080/",
          "height": 115
        },
        "outputId": "fc40196e-2f22-4ea8-a361-b81a6bd99520"
      },
      "source": [
        "file='https://www.kaggle.com/neonninja/nzta-crash-analysis-system-cas/download'\n",
        "dfcrash=pd.read_csv(file, error_bad_lines=False)\n",
        "dfcrash.sample()"
      ],
      "execution_count": 4,
      "outputs": [
        {
          "output_type": "stream",
          "text": [
            "b'Skipping line 6: expected 1 fields, saw 2\\nSkipping line 9: expected 1 fields, saw 4\\nSkipping line 20: expected 1 fields, saw 2\\nSkipping line 32: expected 1 fields, saw 8\\nSkipping line 41: expected 1 fields, saw 9\\nSkipping line 45: expected 1 fields, saw 2\\nSkipping line 46: expected 1 fields, saw 6\\nSkipping line 51: expected 1 fields, saw 2\\nSkipping line 52: expected 1 fields, saw 3\\nSkipping line 53: expected 1 fields, saw 2\\nSkipping line 54: expected 1 fields, saw 2\\nSkipping line 55: expected 1 fields, saw 2\\nSkipping line 74: expected 1 fields, saw 2\\nSkipping line 75: expected 1 fields, saw 2\\nSkipping line 76: expected 1 fields, saw 2\\nSkipping line 77: expected 1 fields, saw 2\\nSkipping line 84: expected 1 fields, saw 2\\nSkipping line 86: expected 1 fields, saw 2\\nSkipping line 94: expected 1 fields, saw 2\\nSkipping line 167: expected 1 fields, saw 2\\nSkipping line 170: expected 1 fields, saw 2\\nSkipping line 171: expected 1 fields, saw 2\\nSkipping line 172: expected 1 fields, saw 2\\nSkipping line 173: expected 1 fields, saw 2\\nSkipping line 175: expected 1 fields, saw 2\\nSkipping line 176: expected 1 fields, saw 2\\nSkipping line 179: expected 1 fields, saw 5\\nSkipping line 183: expected 1 fields, saw 5\\n'\n"
          ],
          "name": "stderr"
        },
        {
          "output_type": "execute_result",
          "data": {
            "text/html": [
              "<div>\n",
              "<style scoped>\n",
              "    .dataframe tbody tr th:only-of-type {\n",
              "        vertical-align: middle;\n",
              "    }\n",
              "\n",
              "    .dataframe tbody tr th {\n",
              "        vertical-align: top;\n",
              "    }\n",
              "\n",
              "    .dataframe thead th {\n",
              "        text-align: right;\n",
              "    }\n",
              "</style>\n",
              "<table border=\"1\" class=\"dataframe\">\n",
              "  <thead>\n",
              "    <tr style=\"text-align: right;\">\n",
              "      <th></th>\n",
              "      <th>&lt;!DOCTYPE html&gt;</th>\n",
              "    </tr>\n",
              "  </thead>\n",
              "  <tbody>\n",
              "    <tr>\n",
              "      <th>97</th>\n",
              "      <td>&lt;script id=\"gapi-target\" nonce=\"nB/wW7TnLZ...</td>\n",
              "    </tr>\n",
              "  </tbody>\n",
              "</table>\n",
              "</div>"
            ],
            "text/plain": [
              "                                      <!DOCTYPE html>\n",
              "97      <script id=\"gapi-target\" nonce=\"nB/wW7TnLZ..."
            ]
          },
          "metadata": {
            "tags": []
          },
          "execution_count": 4
        }
      ]
    },
    {
      "cell_type": "code",
      "metadata": {
        "id": "eWvW5ebjl1l0",
        "colab_type": "code",
        "colab": {
          "base_uri": "https://localhost:8080/",
          "height": 54
        },
        "outputId": "d01b4bab-ee36-42a1-a29e-5968916bcae4"
      },
      "source": [
        "from google.colab import drive\n",
        "drive.mount('/content/drive')"
      ],
      "execution_count": null,
      "outputs": [
        {
          "output_type": "stream",
          "text": [
            "Drive already mounted at /content/drive; to attempt to forcibly remount, call drive.mount(\"/content/drive\", force_remount=True).\n"
          ],
          "name": "stdout"
        }
      ]
    },
    {
      "cell_type": "code",
      "metadata": {
        "id": "Xmvd8oSnmDY9",
        "colab_type": "code",
        "colab": {
          "base_uri": "https://localhost:8080/",
          "height": 114
        },
        "outputId": "d6580a0f-d480-4953-8e59-0e06ecabd150"
      },
      "source": [
        "file='/content/drive/My Drive/data sets/Crash_Analysis_System_CAS_data.csv'\n",
        "dfcrash=pd.read_csv(file, error_bad_lines=False)\n",
        "dfcrash.sample()"
      ],
      "execution_count": null,
      "outputs": [
        {
          "output_type": "execute_result",
          "data": {
            "text/html": [
              "<div>\n",
              "<style scoped>\n",
              "    .dataframe tbody tr th:only-of-type {\n",
              "        vertical-align: middle;\n",
              "    }\n",
              "\n",
              "    .dataframe tbody tr th {\n",
              "        vertical-align: top;\n",
              "    }\n",
              "\n",
              "    .dataframe thead th {\n",
              "        text-align: right;\n",
              "    }\n",
              "</style>\n",
              "<table border=\"1\" class=\"dataframe\">\n",
              "  <thead>\n",
              "    <tr style=\"text-align: right;\">\n",
              "      <th></th>\n",
              "      <th>X</th>\n",
              "      <th>Y</th>\n",
              "      <th>OBJECTID</th>\n",
              "      <th>advisorySpeed</th>\n",
              "      <th>animals</th>\n",
              "      <th>areaUnitID</th>\n",
              "      <th>bicycle</th>\n",
              "      <th>bridge</th>\n",
              "      <th>bus</th>\n",
              "      <th>carStationWagon</th>\n",
              "      <th>cliffBank</th>\n",
              "      <th>crashDirectionDescription</th>\n",
              "      <th>crashDistance</th>\n",
              "      <th>crashFinancialYear</th>\n",
              "      <th>crashLocation1</th>\n",
              "      <th>crashLocation2</th>\n",
              "      <th>crashSeverity</th>\n",
              "      <th>crashSHDescription</th>\n",
              "      <th>crashYear</th>\n",
              "      <th>debris</th>\n",
              "      <th>directionRoleDescription</th>\n",
              "      <th>ditch</th>\n",
              "      <th>easting</th>\n",
              "      <th>fatalCount</th>\n",
              "      <th>fence</th>\n",
              "      <th>flatHill</th>\n",
              "      <th>guardRail</th>\n",
              "      <th>holiday</th>\n",
              "      <th>houseOrBuilding</th>\n",
              "      <th>intersectionMidblock</th>\n",
              "      <th>junctionType</th>\n",
              "      <th>kerb</th>\n",
              "      <th>light</th>\n",
              "      <th>meshblockId</th>\n",
              "      <th>minorInjuryCount</th>\n",
              "      <th>moped</th>\n",
              "      <th>motorcycle</th>\n",
              "      <th>northing</th>\n",
              "      <th>NumberOfLanes</th>\n",
              "      <th>objectThrownOrDropped</th>\n",
              "      <th>otherObject</th>\n",
              "      <th>otherVehicleType</th>\n",
              "      <th>outdatedLocationDescription</th>\n",
              "      <th>overBank</th>\n",
              "      <th>parkedVehicle</th>\n",
              "      <th>pedestrian</th>\n",
              "      <th>phoneBoxEtc</th>\n",
              "      <th>postOrPole</th>\n",
              "      <th>region</th>\n",
              "      <th>roadCharacter</th>\n",
              "      <th>roadCurvature</th>\n",
              "      <th>roadLane</th>\n",
              "      <th>roadMarkings</th>\n",
              "      <th>roadSurface</th>\n",
              "      <th>roadworks</th>\n",
              "      <th>schoolBus</th>\n",
              "      <th>seriousInjuryCount</th>\n",
              "      <th>slipOrFlood</th>\n",
              "      <th>speedLimit</th>\n",
              "      <th>strayAnimal</th>\n",
              "      <th>streetLight</th>\n",
              "      <th>suv</th>\n",
              "      <th>taxi</th>\n",
              "      <th>temporarySpeedLimit</th>\n",
              "      <th>tlaId</th>\n",
              "      <th>tlaName</th>\n",
              "      <th>trafficControl</th>\n",
              "      <th>trafficIsland</th>\n",
              "      <th>trafficSign</th>\n",
              "      <th>train</th>\n",
              "      <th>tree</th>\n",
              "      <th>truck</th>\n",
              "      <th>unknownVehicleType</th>\n",
              "      <th>urban</th>\n",
              "      <th>vanOrUtility</th>\n",
              "      <th>vehicle</th>\n",
              "      <th>waterRiver</th>\n",
              "      <th>weatherA</th>\n",
              "      <th>weatherB</th>\n",
              "    </tr>\n",
              "  </thead>\n",
              "  <tbody>\n",
              "    <tr>\n",
              "      <th>189046</th>\n",
              "      <td>1766233.0</td>\n",
              "      <td>5905334.0</td>\n",
              "      <td>185047</td>\n",
              "      <td>NaN</td>\n",
              "      <td>0.0</td>\n",
              "      <td>522400.0</td>\n",
              "      <td>0.0</td>\n",
              "      <td>0.0</td>\n",
              "      <td>0.0</td>\n",
              "      <td>3.0</td>\n",
              "      <td>0.0</td>\n",
              "      <td>West</td>\n",
              "      <td>50.0</td>\n",
              "      <td>2017</td>\n",
              "      <td>FITZROY ST</td>\n",
              "      <td>CARRUTH ROAD</td>\n",
              "      <td>Non-Injury Crash</td>\n",
              "      <td>No</td>\n",
              "      <td>2017</td>\n",
              "      <td>0.0</td>\n",
              "      <td>East</td>\n",
              "      <td>0.0</td>\n",
              "      <td>1766233.0</td>\n",
              "      <td>0.0</td>\n",
              "      <td>0.0</td>\n",
              "      <td>Flat</td>\n",
              "      <td>0.0</td>\n",
              "      <td>NaN</td>\n",
              "      <td>0.0</td>\n",
              "      <td>Midblock</td>\n",
              "      <td>Nil (Default)</td>\n",
              "      <td>0.0</td>\n",
              "      <td>Dark</td>\n",
              "      <td>672003.0</td>\n",
              "      <td>0.0</td>\n",
              "      <td>0.0</td>\n",
              "      <td>0.0</td>\n",
              "      <td>5905334.0</td>\n",
              "      <td>2.0</td>\n",
              "      <td>0.0</td>\n",
              "      <td>0.0</td>\n",
              "      <td>0.0</td>\n",
              "      <td>Current location</td>\n",
              "      <td>0.0</td>\n",
              "      <td>2.0</td>\n",
              "      <td>NaN</td>\n",
              "      <td>0.0</td>\n",
              "      <td>0.0</td>\n",
              "      <td>Auckland Region</td>\n",
              "      <td>Nil</td>\n",
              "      <td>Straight</td>\n",
              "      <td>2-way</td>\n",
              "      <td>NaN</td>\n",
              "      <td>Sealed</td>\n",
              "      <td>0.0</td>\n",
              "      <td>0.0</td>\n",
              "      <td>0.0</td>\n",
              "      <td>0.0</td>\n",
              "      <td>50.0</td>\n",
              "      <td>0.0</td>\n",
              "      <td>On</td>\n",
              "      <td>0.0</td>\n",
              "      <td>0.0</td>\n",
              "      <td>NaN</td>\n",
              "      <td>76.0</td>\n",
              "      <td>Auckland</td>\n",
              "      <td>Unknown</td>\n",
              "      <td>0.0</td>\n",
              "      <td>0.0</td>\n",
              "      <td>0.0</td>\n",
              "      <td>0.0</td>\n",
              "      <td>0.0</td>\n",
              "      <td>0.0</td>\n",
              "      <td>Urban</td>\n",
              "      <td>0.0</td>\n",
              "      <td>0.0</td>\n",
              "      <td>0.0</td>\n",
              "      <td>Fine</td>\n",
              "      <td>Null</td>\n",
              "    </tr>\n",
              "  </tbody>\n",
              "</table>\n",
              "</div>"
            ],
            "text/plain": [
              "                X          Y  OBJECTID  ...  waterRiver  weatherA  weatherB\n",
              "189046  1766233.0  5905334.0    185047  ...         0.0      Fine      Null\n",
              "\n",
              "[1 rows x 79 columns]"
            ]
          },
          "metadata": {
            "tags": []
          },
          "execution_count": 7
        }
      ]
    },
    {
      "cell_type": "code",
      "metadata": {
        "id": "4tUCM_xomHp3",
        "colab_type": "code",
        "colab": {}
      },
      "source": [
        "target='crashSeverity'\n",
        "features=dfcrash.columns.drop([target,'OBJECTID','roadMarkings','minorInjuryCount','fatalCount','seriousInjuryCount'])\n",
        "\n",
        "train, test = train_test_split(dfcrash, train_size=0.80, test_size=0.20, \n",
        "                              stratify=dfcrash[target], random_state=42)\n",
        "\n",
        "def wrangle(df):\n",
        "  df=df.copy()\n",
        "  df['holiday']=df['holiday'].replace('unknown',np.nan)\n",
        "  df=df.replace(0,np.nan)\n",
        "  return df\n",
        "\n",
        "train=wrangle(train)\n",
        "test=wrangle(test)\n",
        "\n",
        "X_train = train[features]\n",
        "y_train = train[target]\n",
        "X_test = test[features]\n",
        "y_test = test[target]"
      ],
      "execution_count": null,
      "outputs": []
    },
    {
      "cell_type": "code",
      "metadata": {
        "id": "vnQTWLrCmJiP",
        "colab_type": "code",
        "colab": {
          "base_uri": "https://localhost:8080/",
          "height": 34
        },
        "outputId": "19b78b72-8e1c-40b3-e78e-bcdeb7d80b55"
      },
      "source": [
        "baseline=(y_train.value_counts(normalize=True)[0])\n",
        "print(f'The majority class baseline is: {baseline:.4%}')"
      ],
      "execution_count": null,
      "outputs": [
        {
          "output_type": "stream",
          "text": [
            "The majority class baseline is: 71.0987%\n"
          ],
          "name": "stdout"
        }
      ]
    },
    {
      "cell_type": "code",
      "metadata": {
        "id": "gLtintWNmMJm",
        "colab_type": "code",
        "colab": {
          "base_uri": "https://localhost:8080/",
          "height": 34
        },
        "outputId": "706b9062-fafb-4277-a4ca-d663ba0bab99"
      },
      "source": [
        "df_wrangle=wrangle(dfcrash)\n",
        "df_wrangle.shape"
      ],
      "execution_count": null,
      "outputs": [
        {
          "output_type": "execute_result",
          "data": {
            "text/plain": [
              "(705824, 79)"
            ]
          },
          "metadata": {
            "tags": []
          },
          "execution_count": 10
        }
      ]
    },
    {
      "cell_type": "code",
      "metadata": {
        "id": "MYV6ySECmZjO",
        "colab_type": "code",
        "colab": {
          "base_uri": "https://localhost:8080/",
          "height": 105
        },
        "outputId": "80469f7b-4d64-423d-a297-b436c546bb48"
      },
      "source": [
        "dfcrash['crashSeverity'].value_counts()"
      ],
      "execution_count": null,
      "outputs": [
        {
          "output_type": "execute_result",
          "data": {
            "text/plain": [
              "Non-Injury Crash    501832\n",
              "Minor Crash         158452\n",
              "Serious Crash        39112\n",
              "Fatal Crash           6428\n",
              "Name: crashSeverity, dtype: int64"
            ]
          },
          "metadata": {
            "tags": []
          },
          "execution_count": 11
        }
      ]
    },
    {
      "cell_type": "code",
      "metadata": {
        "id": "8YeVOzRgooqn",
        "colab_type": "code",
        "colab": {
          "base_uri": "https://localhost:8080/",
          "height": 286
        },
        "outputId": "15d49507-9e73-48f1-a3d6-b1d5d00b86bb"
      },
      "source": [
        "fig1 = plt.figure(figsize=(5, 3),dpi=100)\n",
        "dfgraph=pd.DataFrame(dfcrash['crashSeverity'])\n",
        "dfgraph[' ']=dfcrash['crashSeverity']\n",
        "graph=dfgraph[' '].value_counts()\n",
        "graph.plot(kind='barh',color=['lemonchiffon','orange','maroon','k'])\n",
        "plt.show()"
      ],
      "execution_count": null,
      "outputs": [
        {
          "output_type": "display_data",
          "data": {
            "image/png": "[encoded data removed]",
            "text/plain": [
              "<Figure size 500x300 with 1 Axes>"
            ]
          },
          "metadata": {
            "tags": [],
            "needs_background": "light"
          }
        }
      ]
    },
    {
      "cell_type": "code",
      "metadata": {
        "id": "2a9Cm_2SmcnC",
        "colab_type": "code",
        "colab": {
          "base_uri": "https://localhost:8080/",
          "height": 105
        },
        "outputId": "081d7ef6-8cc4-4f61-b917-452e7dc6a47a"
      },
      "source": [
        "dfcrash['crashSeverity'].value_counts(normalize=True)"
      ],
      "execution_count": null,
      "outputs": [
        {
          "output_type": "execute_result",
          "data": {
            "text/plain": [
              "Non-Injury Crash    0.710987\n",
              "Minor Crash         0.224492\n",
              "Serious Crash       0.055413\n",
              "Fatal Crash         0.009107\n",
              "Name: crashSeverity, dtype: float64"
            ]
          },
          "metadata": {
            "tags": []
          },
          "execution_count": 13
        }
      ]
    },
    {
      "cell_type": "code",
      "metadata": {
        "id": "hz6YrZ5Ym6Kk",
        "colab_type": "code",
        "colab": {
          "base_uri": "https://localhost:8080/",
          "height": 797
        },
        "outputId": "b4b3e49d-0d03-4a30-d9a8-0704010cdc8f"
      },
      "source": [
        "%%time\n",
        "pipeline = make_pipeline(\n",
        "    ce.ordinal.OrdinalEncoder(),\n",
        "    SimpleImputer(), \n",
        "    StandardScaler(),\n",
        "    LogisticRegression()\n",
        ")\n",
        "\n",
        "pipeline.fit(X_train, y_train)\n",
        "\n",
        "print(classification_report(y_test, pipeline.predict(X_test)))\n",
        "\n",
        "print(f'Train accuracy: {pipeline.score(X_train, y_train):.4%}')\n",
        "print(f'Test accuracy: {pipeline.score(X_test, y_test):.4%}')\n",
        "plot_confusion_matrix(pipeline, X_test, y_test, \n",
        "                      xticks_rotation='vertical', \n",
        "                      normalize='true',\n",
        "                      values_format='.2f',\n",
        "                      cmap='Blues');"
      ],
      "execution_count": null,
      "outputs": [
        {
          "output_type": "stream",
          "text": [
            "/usr/local/lib/python3.6/dist-packages/sklearn/linear_model/_logistic.py:940: ConvergenceWarning:\n",
            "\n",
            "lbfgs failed to converge (status=1):\n",
            "STOP: TOTAL NO. of ITERATIONS REACHED LIMIT.\n",
            "\n",
            "Increase the number of iterations (max_iter) or scale the data as shown in:\n",
            "    https://scikit-learn.org/stable/modules/preprocessing.html\n",
            "Please also refer to the documentation for alternative solver options:\n",
            "    https://scikit-learn.org/stable/modules/linear_model.html#logistic-regression\n",
            "\n"
          ],
          "name": "stderr"
        },
        {
          "output_type": "stream",
          "text": [
            "                  precision    recall  f1-score   support\n",
            "\n",
            "     Fatal Crash       0.25      0.00      0.00      1286\n",
            "     Minor Crash       0.29      0.00      0.00     31690\n",
            "Non-Injury Crash       0.71      1.00      0.83    100367\n",
            "   Serious Crash       0.40      0.00      0.00      7822\n",
            "\n",
            "        accuracy                           0.71    141165\n",
            "       macro avg       0.41      0.25      0.21    141165\n",
            "    weighted avg       0.60      0.71      0.59    141165\n",
            "\n",
            "Train accuracy: 71.0848%\n",
            "Test accuracy: 71.0849%\n",
            "CPU times: user 1min 20s, sys: 16 s, total: 1min 36s\n",
            "Wall time: 1min 6s\n"
          ],
          "name": "stdout"
        },
        {
          "output_type": "display_data",
          "data": {
            "image/png": "[encoded data removed]",
            "text/plain": [
              "<Figure size 432x288 with 2 Axes>"
            ]
          },
          "metadata": {
            "tags": [],
            "needs_background": "light"
          }
        }
      ]
    },
    {
      "cell_type": "code",
      "metadata": {
        "id": "f0AywtQtnT4m",
        "colab_type": "code",
        "colab": {
          "base_uri": "https://localhost:8080/",
          "height": 620
        },
        "outputId": "17501070-a0ae-4a88-8a61-b7e160057645"
      },
      "source": [
        "%%time\n",
        "pipeline = make_pipeline(\n",
        "    ce.ordinal.OrdinalEncoder(),\n",
        "    SimpleImputer(strategy='median'), \n",
        "    DecisionTreeClassifier()\n",
        ")\n",
        "\n",
        "pipeline.fit(X_train, y_train)\n",
        "\n",
        "print(classification_report(y_test, pipeline.predict(X_test)))\n",
        "\n",
        "print(f'Train accuracy: {pipeline.score(X_train, y_train):.4%}')\n",
        "print(f'Test accuracy: {pipeline.score(X_test, y_test):.4%}')\n",
        "plot_confusion_matrix(pipeline, X_test, y_test, \n",
        "                      xticks_rotation='vertical', \n",
        "                      normalize='true',\n",
        "                      values_format='.2f',\n",
        "                      cmap='Blues');"
      ],
      "execution_count": null,
      "outputs": [
        {
          "output_type": "stream",
          "text": [
            "                  precision    recall  f1-score   support\n",
            "\n",
            "     Fatal Crash       0.04      0.04      0.04      1286\n",
            "     Minor Crash       0.26      0.28      0.27     31690\n",
            "Non-Injury Crash       0.74      0.71      0.73    100367\n",
            "   Serious Crash       0.10      0.11      0.10      7822\n",
            "\n",
            "        accuracy                           0.58    141165\n",
            "       macro avg       0.28      0.29      0.28    141165\n",
            "    weighted avg       0.59      0.58      0.58    141165\n",
            "\n",
            "Train accuracy: 99.9543%\n",
            "Test accuracy: 57.7006%\n",
            "CPU times: user 52.9 s, sys: 306 ms, total: 53.2 s\n",
            "Wall time: 53.4 s\n"
          ],
          "name": "stdout"
        },
        {
          "output_type": "display_data",
          "data": {
            "image/png": "[encoded data removed]",
            "text/plain": [
              "<Figure size 432x288 with 2 Axes>"
            ]
          },
          "metadata": {
            "tags": [],
            "needs_background": "light"
          }
        }
      ]
    },
    {
      "cell_type": "code",
      "metadata": {
        "id": "AKPlUTDlm_g7",
        "colab_type": "code",
        "colab": {
          "base_uri": "https://localhost:8080/",
          "height": 637
        },
        "outputId": "6e56dc50-1b91-4c19-f518-e65b81be954d"
      },
      "source": [
        "%%time\n",
        "pipeline = make_pipeline(\n",
        "    ce.ordinal.OrdinalEncoder(),\n",
        "    SimpleImputer(), \n",
        "    RandomForestClassifier(n_estimators=100, n_jobs=-1, random_state=42, max_depth=40, min_samples_leaf=2)\n",
        ")\n",
        "\n",
        "pipeline.fit(X_train, y_train)\n",
        "\n",
        "print(classification_report(y_test, pipeline.predict(X_test)))\n",
        "\n",
        "print(f'Train accuracy: {pipeline.score(X_train, y_train):.4%}')\n",
        "print(f'Test accuracy: {pipeline.score(X_test, y_test):.4%}')\n",
        "fig1 = plt.figure(dpi=200)\n",
        "plot_confusion_matrix(pipeline, X_test, y_test,\n",
        "                      labels=['Fatal Crash','Serious Crash','Minor Crash','Non-Injury Crash'],\n",
        "                      xticks_rotation='vertical', \n",
        "                      normalize='true',\n",
        "                      values_format='.2f',\n",
        "                      cmap='afmhot_r');"
      ],
      "execution_count": null,
      "outputs": [
        {
          "output_type": "stream",
          "text": [
            "                  precision    recall  f1-score   support\n",
            "\n",
            "     Fatal Crash       0.43      0.00      0.00      1286\n",
            "     Minor Crash       0.56      0.24      0.33     31690\n",
            "Non-Injury Crash       0.77      0.97      0.86    100367\n",
            "   Serious Crash       0.41      0.05      0.09      7822\n",
            "\n",
            "        accuracy                           0.75    141165\n",
            "       macro avg       0.54      0.31      0.32    141165\n",
            "    weighted avg       0.70      0.75      0.69    141165\n",
            "\n",
            "Train accuracy: 89.5259%\n",
            "Test accuracy: 74.5666%\n",
            "CPU times: user 9min 29s, sys: 949 ms, total: 9min 30s\n",
            "Wall time: 5min 2s\n"
          ],
          "name": "stdout"
        },
        {
          "output_type": "display_data",
          "data": {
            "text/plain": [
              "<Figure size 1200x800 with 0 Axes>"
            ]
          },
          "metadata": {
            "tags": []
          }
        },
        {
          "output_type": "display_data",
          "data": {
            "image/png": "[encoded data removed]",
            "text/plain": [
              "<Figure size 432x288 with 2 Axes>"
            ]
          },
          "metadata": {
            "tags": [],
            "needs_background": "light"
          }
        }
      ]
    },
    {
      "cell_type": "code",
      "metadata": {
        "id": "bsgm9vMeFRV_",
        "colab_type": "code",
        "colab": {
          "base_uri": "https://localhost:8080/",
          "height": 371
        },
        "outputId": "12d050d6-11c2-4673-a5eb-96bfb3a6c977"
      },
      "source": [
        "fig1 = plt.figure(dpi=200)\n",
        "plot_confusion_matrix(pipeline, X_test, y_test,\n",
        "                      labels=['Fatal Crash','Serious Crash','Minor Crash','Non-Injury Crash'],\n",
        "                      xticks_rotation='vertical', \n",
        "                      normalize='true',\n",
        "                      values_format='.2f',\n",
        "                      cmap='afmhot_r');"
      ],
      "execution_count": null,
      "outputs": [
        {
          "output_type": "display_data",
          "data": {
            "text/plain": [
              "<Figure size 1200x800 with 0 Axes>"
            ]
          },
          "metadata": {
            "tags": []
          }
        },
        {
          "output_type": "display_data",
          "data": {
            "image/png": "[encoded data removed]",
            "text/plain": [
              "<Figure size 432x288 with 2 Axes>"
            ]
          },
          "metadata": {
            "tags": [],
            "needs_background": "light"
          }
        }
      ]
    },
    {
      "cell_type": "code",
      "metadata": {
        "id": "TIDfACMdnnX7",
        "colab_type": "code",
        "colab": {
          "base_uri": "https://localhost:8080/",
          "height": 620
        },
        "outputId": "5cfef5c2-8d13-474f-b7b2-10a4fc7e1eff"
      },
      "source": [
        "%%time\n",
        "pipeline = make_pipeline(\n",
        "    ce.ordinal.OrdinalEncoder(),\n",
        "    XGBClassifier(n_estimators=100, random_state=42, n_jobs=-1)\n",
        ")\n",
        "\n",
        "pipeline.fit(X_train, y_train)\n",
        "\n",
        "print(classification_report(y_test, pipeline.predict(X_test)))\n",
        "\n",
        "print(f'Train accuracy: {pipeline.score(X_train, y_train):.4%}')\n",
        "print(f'Test accuracy: {pipeline.score(X_test, y_test):.4%}')\n",
        "plot_confusion_matrix(pipeline, X_test, y_test, \n",
        "                      xticks_rotation='vertical', \n",
        "                      normalize='true',\n",
        "                      values_format='.2f',\n",
        "                      cmap='Blues');"
      ],
      "execution_count": null,
      "outputs": [
        {
          "output_type": "stream",
          "text": [
            "                  precision    recall  f1-score   support\n",
            "\n",
            "     Fatal Crash       0.33      0.00      0.00      1286\n",
            "     Minor Crash       0.57      0.23      0.33     31690\n",
            "Non-Injury Crash       0.77      0.98      0.86    100367\n",
            "   Serious Crash       0.51      0.03      0.06      7822\n",
            "\n",
            "        accuracy                           0.75    141165\n",
            "       macro avg       0.54      0.31      0.31    141165\n",
            "    weighted avg       0.70      0.75      0.69    141165\n",
            "\n",
            "Train accuracy: 74.7038%\n",
            "Test accuracy: 74.6977%\n",
            "CPU times: user 11min 6s, sys: 849 ms, total: 11min 7s\n",
            "Wall time: 5min 46s\n"
          ],
          "name": "stdout"
        },
        {
          "output_type": "display_data",
          "data": {
            "image/png": "[encoded data removed]",
            "text/plain": [
              "<Figure size 432x288 with 2 Axes>"
            ]
          },
          "metadata": {
            "tags": [],
            "needs_background": "light"
          }
        }
      ]
    },
    {
      "cell_type": "code",
      "metadata": {
        "id": "EBgryKPCracH",
        "colab_type": "code",
        "colab": {
          "base_uri": "https://localhost:8080/",
          "height": 105
        },
        "outputId": "c0cf473b-0e30-4566-bc55-87bd3ce9ab77"
      },
      "source": [
        "train['crashSeverity'].value_counts()"
      ],
      "execution_count": null,
      "outputs": [
        {
          "output_type": "execute_result",
          "data": {
            "text/plain": [
              "Non-Injury Crash    401465\n",
              "Minor Crash         126762\n",
              "Serious Crash        31290\n",
              "Fatal Crash           5142\n",
              "Name: crashSeverity, dtype: int64"
            ]
          },
          "metadata": {
            "tags": []
          },
          "execution_count": 18
        }
      ]
    },
    {
      "cell_type": "code",
      "metadata": {
        "id": "rRG4kA7Hzmwz",
        "colab_type": "code",
        "colab": {}
      },
      "source": [
        "Fatal_Crash = train[train[target]=='Fatal Crash']\n",
        "# Fatal_Crash=Fatal_Crash.append(Fatal_Crash)\n",
        "Fatal_Crash.shape[0]\n",
        "\n",
        "Serious_Crash = train[train[target]=='Serious Crash'].sample(Fatal_Crash.shape[0])\n",
        "Minor_Crash = train[train[target]=='Minor Crash'].sample(Fatal_Crash.shape[0])\n",
        "Non_Injury_Crash = train[train[target]=='Non-Injury Crash'].sample(Fatal_Crash.shape[0])\n",
        "\n",
        "train_undersample  = pd.concat([Fatal_Crash,\n",
        "                    Serious_Crash,\n",
        "                    Minor_Crash,\n",
        "                    Non_Injury_Crash],\n",
        "                            axis=0)"
      ],
      "execution_count": null,
      "outputs": []
    },
    {
      "cell_type": "code",
      "metadata": {
        "id": "r16ytpXA0mTp",
        "colab_type": "code",
        "colab": {
          "base_uri": "https://localhost:8080/",
          "height": 105
        },
        "outputId": "4a8dcee9-a0d8-4385-f43a-31a711ff4837"
      },
      "source": [
        "train_undersample['crashSeverity'].value_counts()"
      ],
      "execution_count": null,
      "outputs": [
        {
          "output_type": "execute_result",
          "data": {
            "text/plain": [
              "Non-Injury Crash    5142\n",
              "Minor Crash         5142\n",
              "Serious Crash       5142\n",
              "Fatal Crash         5142\n",
              "Name: crashSeverity, dtype: int64"
            ]
          },
          "metadata": {
            "tags": []
          },
          "execution_count": 20
        }
      ]
    },
    {
      "cell_type": "code",
      "metadata": {
        "id": "HawWaUpo0t-1",
        "colab_type": "code",
        "colab": {}
      },
      "source": [
        "train_undersample=wrangle(train_undersample)\n",
        "test=wrangle(test)\n",
        "\n",
        "X_train_undersample = train_undersample[features]\n",
        "y_train_undersample = train_undersample[target]"
      ],
      "execution_count": null,
      "outputs": []
    },
    {
      "cell_type": "code",
      "metadata": {
        "id": "JYvrfc3I1Nom",
        "colab_type": "code",
        "colab": {
          "base_uri": "https://localhost:8080/",
          "height": 797
        },
        "outputId": "10e66355-b3f6-465b-c8ed-2642cd85c714"
      },
      "source": [
        "%%time\n",
        "pipeline = make_pipeline(\n",
        "    ce.ordinal.OrdinalEncoder(),\n",
        "    SimpleImputer(), \n",
        "    StandardScaler(),\n",
        "    LogisticRegression()\n",
        ")\n",
        "\n",
        "pipeline.fit(X_train_undersample, y_train_undersample)\n",
        "\n",
        "print(classification_report(y_test, pipeline.predict(X_test)))\n",
        "\n",
        "print(f'Train accuracy: {pipeline.score(X_train, y_train):.4%}')\n",
        "print(f'Test accuracy: {pipeline.score(X_test, y_test):.4%}')\n",
        "plot_confusion_matrix(pipeline, X_test, y_test, \n",
        "                      xticks_rotation='vertical', \n",
        "                      normalize='true',\n",
        "                      values_format='.2f',\n",
        "                      cmap='Blues');"
      ],
      "execution_count": null,
      "outputs": [
        {
          "output_type": "stream",
          "text": [
            "/usr/local/lib/python3.6/dist-packages/sklearn/linear_model/_logistic.py:940: ConvergenceWarning:\n",
            "\n",
            "lbfgs failed to converge (status=1):\n",
            "STOP: TOTAL NO. of ITERATIONS REACHED LIMIT.\n",
            "\n",
            "Increase the number of iterations (max_iter) or scale the data as shown in:\n",
            "    https://scikit-learn.org/stable/modules/preprocessing.html\n",
            "Please also refer to the documentation for alternative solver options:\n",
            "    https://scikit-learn.org/stable/modules/linear_model.html#logistic-regression\n",
            "\n"
          ],
          "name": "stderr"
        },
        {
          "output_type": "stream",
          "text": [
            "                  precision    recall  f1-score   support\n",
            "\n",
            "     Fatal Crash       0.01      0.67      0.03      1286\n",
            "     Minor Crash       0.23      0.14      0.18     31690\n",
            "Non-Injury Crash       0.79      0.29      0.42    100367\n",
            "   Serious Crash       0.06      0.21      0.10      7822\n",
            "\n",
            "        accuracy                           0.26    141165\n",
            "       macro avg       0.28      0.33      0.18    141165\n",
            "    weighted avg       0.62      0.26      0.35    141165\n",
            "\n",
            "Train accuracy: 26.2842%\n",
            "Test accuracy: 25.6537%\n",
            "CPU times: user 17.1 s, sys: 1.71 s, total: 18.8 s\n",
            "Wall time: 16.3 s\n"
          ],
          "name": "stdout"
        },
        {
          "output_type": "display_data",
          "data": {
            "image/png": "[encoded data removed]",
            "text/plain": [
              "<Figure size 432x288 with 2 Axes>"
            ]
          },
          "metadata": {
            "tags": [],
            "needs_background": "light"
          }
        }
      ]
    },
    {
      "cell_type": "code",
      "metadata": {
        "id": "SJDDXXh51QBE",
        "colab_type": "code",
        "colab": {
          "base_uri": "https://localhost:8080/",
          "height": 620
        },
        "outputId": "0764d9da-6d08-46f7-c814-82eb1940c968"
      },
      "source": [
        "%%time\n",
        "pipeline = make_pipeline(\n",
        "    ce.ordinal.OrdinalEncoder(),\n",
        "    SimpleImputer(strategy='median'), \n",
        "    DecisionTreeClassifier()\n",
        ")\n",
        "\n",
        "pipeline.fit(X_train_undersample, y_train_undersample)\n",
        "\n",
        "print(classification_report(y_test, pipeline.predict(X_test)))\n",
        "\n",
        "print(f'Train accuracy: {pipeline.score(X_train, y_train):.4%}')\n",
        "print(f'Test accuracy: {pipeline.score(X_test, y_test):.4%}')\n",
        "plot_confusion_matrix(pipeline, X_test, y_test, \n",
        "                      xticks_rotation='vertical', \n",
        "                      normalize='true',\n",
        "                      values_format='.2f',\n",
        "                      cmap='Blues');"
      ],
      "execution_count": null,
      "outputs": [
        {
          "output_type": "stream",
          "text": [
            "                  precision    recall  f1-score   support\n",
            "\n",
            "     Fatal Crash       0.02      0.38      0.04      1286\n",
            "     Minor Crash       0.22      0.27      0.24     31690\n",
            "Non-Injury Crash       0.76      0.34      0.47    100367\n",
            "   Serious Crash       0.07      0.26      0.11      7822\n",
            "\n",
            "        accuracy                           0.32    141165\n",
            "       macro avg       0.27      0.31      0.21    141165\n",
            "    weighted avg       0.59      0.32      0.40    141165\n",
            "\n",
            "Train accuracy: 34.9248%\n",
            "Test accuracy: 32.2580%\n",
            "CPU times: user 14.6 s, sys: 51.4 ms, total: 14.7 s\n",
            "Wall time: 14.7 s\n"
          ],
          "name": "stdout"
        },
        {
          "output_type": "display_data",
          "data": {
            "image/png": "[encoded data removed]",
            "text/plain": [
              "<Figure size 432x288 with 2 Axes>"
            ]
          },
          "metadata": {
            "tags": [],
            "needs_background": "light"
          }
        }
      ]
    },
    {
      "cell_type": "code",
      "metadata": {
        "id": "qoBftjZi1R8D",
        "colab_type": "code",
        "colab": {
          "base_uri": "https://localhost:8080/",
          "height": 620
        },
        "outputId": "1c0345d3-4771-42c7-fdc3-bcd1af7a9974"
      },
      "source": [
        "%%time\n",
        "pipeline = make_pipeline(\n",
        "    ce.ordinal.OrdinalEncoder(),\n",
        "    SimpleImputer(), \n",
        "    RandomForestClassifier(n_estimators=100, n_jobs=-1, random_state=42, max_depth=40, min_samples_leaf=2)\n",
        ")\n",
        "\n",
        "pipeline.fit(X_train_undersample, y_train_undersample)\n",
        "\n",
        "print(classification_report(y_test, pipeline.predict(X_test)))\n",
        "\n",
        "print(f'Train accuracy: {pipeline.score(X_train, y_train):.4%}')\n",
        "print(f'Test accuracy: {pipeline.score(X_test, y_test):.4%}')\n",
        "plot_confusion_matrix(pipeline, X_test, y_test, \n",
        "                      xticks_rotation='vertical', \n",
        "                      normalize='true',\n",
        "                      values_format='.2f',\n",
        "                      cmap='Blues');"
      ],
      "execution_count": null,
      "outputs": [
        {
          "output_type": "stream",
          "text": [
            "                  precision    recall  f1-score   support\n",
            "\n",
            "     Fatal Crash       0.02      0.65      0.04      1286\n",
            "     Minor Crash       0.24      0.23      0.23     31690\n",
            "Non-Injury Crash       0.83      0.42      0.56    100367\n",
            "   Serious Crash       0.09      0.25      0.13      7822\n",
            "\n",
            "        accuracy                           0.37    141165\n",
            "       macro avg       0.29      0.39      0.24    141165\n",
            "    weighted avg       0.65      0.37      0.46    141165\n",
            "\n",
            "Train accuracy: 39.5600%\n",
            "Test accuracy: 37.1884%\n",
            "CPU times: user 1min, sys: 218 ms, total: 1min\n",
            "Wall time: 37.6 s\n"
          ],
          "name": "stdout"
        },
        {
          "output_type": "display_data",
          "data": {
            "image/png": "[encoded data removed]",
            "text/plain": [
              "<Figure size 432x288 with 2 Axes>"
            ]
          },
          "metadata": {
            "tags": [],
            "needs_background": "light"
          }
        }
      ]
    },
    {
      "cell_type": "code",
      "metadata": {
        "id": "cAHAwpOH54vU",
        "colab_type": "code",
        "colab": {
          "base_uri": "https://localhost:8080/",
          "height": 34
        },
        "outputId": "962e6a07-5ed3-47c8-f58a-8d610895c085"
      },
      "source": [
        "(65+23+42+25)/4"
      ],
      "execution_count": null,
      "outputs": [
        {
          "output_type": "execute_result",
          "data": {
            "text/plain": [
              "38.75"
            ]
          },
          "metadata": {
            "tags": []
          },
          "execution_count": 25
        }
      ]
    },
    {
      "cell_type": "code",
      "metadata": {
        "id": "M8gIpnJS1TqG",
        "colab_type": "code",
        "colab": {
          "base_uri": "https://localhost:8080/",
          "height": 620
        },
        "outputId": "21b04aa5-313a-4c31-e61d-a7f04b9a6927"
      },
      "source": [
        "%%time\n",
        "pipeline = make_pipeline(\n",
        "    ce.ordinal.OrdinalEncoder(),\n",
        "    XGBClassifier(n_estimators=100, random_state=42, n_jobs=-1)\n",
        ")\n",
        "\n",
        "pipeline.fit(X_train_undersample, y_train_undersample)\n",
        "\n",
        "print(classification_report(y_test, pipeline.predict(X_test)))\n",
        "\n",
        "print(f'Train accuracy: {pipeline.score(X_train, y_train):.4%}')\n",
        "print(f'Test accuracy: {pipeline.score(X_test, y_test):.4%}')\n",
        "plot_confusion_matrix(pipeline, X_test, y_test, \n",
        "                      xticks_rotation='vertical', \n",
        "                      normalize='true',\n",
        "                      values_format='.2f',\n",
        "                      cmap='Blues');"
      ],
      "execution_count": null,
      "outputs": [
        {
          "output_type": "stream",
          "text": [
            "                  precision    recall  f1-score   support\n",
            "\n",
            "     Fatal Crash       0.02      0.69      0.03      1286\n",
            "     Minor Crash       0.22      0.15      0.18     31690\n",
            "Non-Injury Crash       0.81      0.36      0.49    100367\n",
            "   Serious Crash       0.07      0.20      0.10      7822\n",
            "\n",
            "        accuracy                           0.30    141165\n",
            "       macro avg       0.28      0.35      0.20    141165\n",
            "    weighted avg       0.63      0.30      0.40    141165\n",
            "\n",
            "Train accuracy: 31.9193%\n",
            "Test accuracy: 30.4268%\n",
            "CPU times: user 48 s, sys: 82.6 ms, total: 48 s\n",
            "Wall time: 30.6 s\n"
          ],
          "name": "stdout"
        },
        {
          "output_type": "display_data",
          "data": {
            "image/png": "[encoded data removed]",
            "text/plain": [
              "<Figure size 432x288 with 2 Axes>"
            ]
          },
          "metadata": {
            "tags": [],
            "needs_background": "light"
          }
        }
      ]
    },
    {
      "cell_type": "code",
      "metadata": {
        "id": "HJdrcb105zgH",
        "colab_type": "code",
        "colab": {
          "base_uri": "https://localhost:8080/",
          "height": 34
        },
        "outputId": "855e4a7c-6f56-47d0-bb75-bc002b39e39a"
      },
      "source": [
        "(67+16+36+21)/4"
      ],
      "execution_count": null,
      "outputs": [
        {
          "output_type": "execute_result",
          "data": {
            "text/plain": [
              "35.0"
            ]
          },
          "metadata": {
            "tags": []
          },
          "execution_count": 27
        }
      ]
    },
    {
      "cell_type": "code",
      "metadata": {
        "id": "TqIeJ3S82QbU",
        "colab_type": "code",
        "colab": {}
      },
      "source": [
        "Fatal_Crash = train[train[target]=='Fatal Crash']\n",
        "Fatal_Crash=Fatal_Crash.append(Fatal_Crash)\n",
        "\n",
        "Serious_Crash = train[train[target]=='Serious Crash'].sample(Fatal_Crash.shape[0])\n",
        "Minor_Crash = train[train[target]=='Minor Crash'].sample(Fatal_Crash.shape[0])\n",
        "Non_Injury_Crash = train[train[target]=='Non-Injury Crash'].sample(Fatal_Crash.shape[0])\n",
        "\n",
        "train_undersample  = pd.concat([Fatal_Crash,\n",
        "                    Serious_Crash,\n",
        "                    Minor_Crash,\n",
        "                    Non_Injury_Crash],\n",
        "                            axis=0)"
      ],
      "execution_count": null,
      "outputs": []
    },
    {
      "cell_type": "code",
      "metadata": {
        "id": "5F5thAWT2ZN6",
        "colab_type": "code",
        "colab": {}
      },
      "source": [
        "Fatal_Crash = train[train[target]=='Fatal Crash']\n",
        "Fatal_Crash_over_under=Fatal_Crash.append(Fatal_Crash)\n",
        "Fatal_Crash_over_under=Fatal_Crash_over_under.append(Fatal_Crash)\n",
        "Fatal_Crash_over_under=Fatal_Crash_over_under.append(Fatal_Crash)\n",
        "Fatal_Crash_over_under=Fatal_Crash_over_under.append(Fatal_Crash)\n",
        "\n",
        "Serious_Crash_over_under = train[train[target]=='Serious Crash'].sample(Fatal_Crash_over_under.shape[0])\n",
        "Minor_Crash_over_under = train[train[target]=='Minor Crash'].sample(Fatal_Crash_over_under.shape[0])\n",
        "Non_Injury_Crash_over_under = train[train[target]=='Non-Injury Crash'].sample(Fatal_Crash_over_under.shape[0])\n",
        "\n",
        "train_over_under  = pd.concat([Fatal_Crash_over_under,\n",
        "                    Serious_Crash_over_under,\n",
        "                    Minor_Crash_over_under,\n",
        "                    Non_Injury_Crash_over_under],\n",
        "                            axis=0)"
      ],
      "execution_count": null,
      "outputs": []
    },
    {
      "cell_type": "code",
      "metadata": {
        "id": "VsiV6wQb3VrJ",
        "colab_type": "code",
        "colab": {}
      },
      "source": [
        "train_undersample=wrangle(train_undersample)\n",
        "\n",
        "X_train_over_under = train_over_under[features]\n",
        "y_train_over_under = train_over_under[target]"
      ],
      "execution_count": null,
      "outputs": []
    },
    {
      "cell_type": "code",
      "metadata": {
        "id": "bf_L0fiN3RvI",
        "colab_type": "code",
        "colab": {
          "base_uri": "https://localhost:8080/",
          "height": 797
        },
        "outputId": "c31e5361-e9ae-4449-a957-65b9639a16eb"
      },
      "source": [
        "%%time\n",
        "pipeline = make_pipeline(\n",
        "    ce.ordinal.OrdinalEncoder(),\n",
        "    SimpleImputer(), \n",
        "    StandardScaler(),\n",
        "    LogisticRegression()\n",
        ")\n",
        "\n",
        "pipeline.fit(X_train_over_under, y_train_over_under)\n",
        "\n",
        "print(classification_report(y_test, pipeline.predict(X_test)))\n",
        "\n",
        "print(f'Train accuracy: {pipeline.score(X_train, y_train):.4%}')\n",
        "print(f'Test accuracy: {pipeline.score(X_test, y_test):.4%}')\n",
        "plot_confusion_matrix(pipeline, X_test, y_test, \n",
        "                      xticks_rotation='vertical', \n",
        "                      normalize='true',\n",
        "                      values_format='.2f',\n",
        "                      cmap='Blues');"
      ],
      "execution_count": null,
      "outputs": [
        {
          "output_type": "stream",
          "text": [
            "/usr/local/lib/python3.6/dist-packages/sklearn/linear_model/_logistic.py:940: ConvergenceWarning:\n",
            "\n",
            "lbfgs failed to converge (status=1):\n",
            "STOP: TOTAL NO. of ITERATIONS REACHED LIMIT.\n",
            "\n",
            "Increase the number of iterations (max_iter) or scale the data as shown in:\n",
            "    https://scikit-learn.org/stable/modules/preprocessing.html\n",
            "Please also refer to the documentation for alternative solver options:\n",
            "    https://scikit-learn.org/stable/modules/linear_model.html#logistic-regression\n",
            "\n"
          ],
          "name": "stderr"
        },
        {
          "output_type": "stream",
          "text": [
            "                  precision    recall  f1-score   support\n",
            "\n",
            "     Fatal Crash       0.02      0.49      0.03      1286\n",
            "     Minor Crash       0.27      0.17      0.21     31690\n",
            "Non-Injury Crash       0.79      0.44      0.56    100367\n",
            "   Serious Crash       0.08      0.29      0.13      7822\n",
            "\n",
            "        accuracy                           0.37    141165\n",
            "       macro avg       0.29      0.35      0.23    141165\n",
            "    weighted avg       0.63      0.37      0.46    141165\n",
            "\n",
            "Train accuracy: 38.5636%\n",
            "Test accuracy: 37.0113%\n",
            "CPU times: user 28.1 s, sys: 5.87 s, total: 34 s\n",
            "Wall time: 24.7 s\n"
          ],
          "name": "stdout"
        },
        {
          "output_type": "display_data",
          "data": {
            "image/png": "[encoded data removed]",
            "text/plain": [
              "<Figure size 432x288 with 2 Axes>"
            ]
          },
          "metadata": {
            "tags": [],
            "needs_background": "light"
          }
        }
      ]
    },
    {
      "cell_type": "code",
      "metadata": {
        "id": "GYU2-Ouu5pEP",
        "colab_type": "code",
        "colab": {
          "base_uri": "https://localhost:8080/",
          "height": 34
        },
        "outputId": "29552045-00bb-426d-d248-cbe9e9f60c8c"
      },
      "source": [
        "(47+16+44+30)/4"
      ],
      "execution_count": null,
      "outputs": [
        {
          "output_type": "execute_result",
          "data": {
            "text/plain": [
              "34.25"
            ]
          },
          "metadata": {
            "tags": []
          },
          "execution_count": 32
        }
      ]
    },
    {
      "cell_type": "code",
      "metadata": {
        "id": "GIaAIuTy3rlf",
        "colab_type": "code",
        "colab": {
          "base_uri": "https://localhost:8080/",
          "height": 620
        },
        "outputId": "5e99572a-626c-436e-9f52-7d32e585ada4"
      },
      "source": [
        "%%time\n",
        "pipeline = make_pipeline(\n",
        "    ce.ordinal.OrdinalEncoder(),\n",
        "    SimpleImputer(strategy='median'), \n",
        "    DecisionTreeClassifier()\n",
        ")\n",
        "\n",
        "pipeline.fit(X_train_over_under, y_train_over_under)\n",
        "\n",
        "print(classification_report(y_test, pipeline.predict(X_test)))\n",
        "\n",
        "print(f'Train accuracy: {pipeline.score(X_train, y_train):.4%}')\n",
        "print(f'Test accuracy: {pipeline.score(X_test, y_test):.4%}')\n",
        "plot_confusion_matrix(pipeline, X_test, y_test, \n",
        "                      xticks_rotation='vertical', \n",
        "                      normalize='true',\n",
        "                      values_format='.2f',\n",
        "                      cmap='Blues');"
      ],
      "execution_count": null,
      "outputs": [
        {
          "output_type": "stream",
          "text": [
            "                  precision    recall  f1-score   support\n",
            "\n",
            "     Fatal Crash       0.03      0.15      0.04      1286\n",
            "     Minor Crash       0.23      0.33      0.28     31690\n",
            "Non-Injury Crash       0.77      0.40      0.52    100367\n",
            "   Serious Crash       0.08      0.35      0.12      7822\n",
            "\n",
            "        accuracy                           0.38    141165\n",
            "       macro avg       0.28      0.31      0.24    141165\n",
            "    weighted avg       0.60      0.38      0.44    141165\n",
            "\n",
            "Train accuracy: 47.5668%\n",
            "Test accuracy: 37.9315%\n",
            "CPU times: user 18.7 s, sys: 56.2 ms, total: 18.8 s\n",
            "Wall time: 18.8 s\n"
          ],
          "name": "stdout"
        },
        {
          "output_type": "display_data",
          "data": {
            "image/png": "[encoded data removed]",
            "text/plain": [
              "<Figure size 432x288 with 2 Axes>"
            ]
          },
          "metadata": {
            "tags": [],
            "needs_background": "light"
          }
        }
      ]
    },
    {
      "cell_type": "code",
      "metadata": {
        "id": "6K1uZrXx5icF",
        "colab_type": "code",
        "colab": {
          "base_uri": "https://localhost:8080/",
          "height": 34
        },
        "outputId": "3a4be1d3-cf76-45ba-e278-ba6509086b05"
      },
      "source": [
        "(15+33+40+36)/4"
      ],
      "execution_count": null,
      "outputs": [
        {
          "output_type": "execute_result",
          "data": {
            "text/plain": [
              "31.0"
            ]
          },
          "metadata": {
            "tags": []
          },
          "execution_count": 34
        }
      ]
    },
    {
      "cell_type": "code",
      "metadata": {
        "id": "7Url49AU3tJF",
        "colab_type": "code",
        "colab": {
          "base_uri": "https://localhost:8080/",
          "height": 620
        },
        "outputId": "fe6a9e61-e907-4a83-b29c-6f5b7abad563"
      },
      "source": [
        "%%time\n",
        "pipeline = make_pipeline(\n",
        "    ce.ordinal.OrdinalEncoder(),\n",
        "    SimpleImputer(), \n",
        "    RandomForestClassifier(n_estimators=100, n_jobs=-1, random_state=42, max_depth=40, min_samples_leaf=2)\n",
        ")\n",
        "\n",
        "pipeline.fit(X_train_over_under, y_train_over_under)\n",
        "\n",
        "print(classification_report(y_test, pipeline.predict(X_test)))\n",
        "\n",
        "print(f'Train accuracy: {pipeline.score(X_train, y_train):.4%}')\n",
        "print(f'Test accuracy: {pipeline.score(X_test, y_test):.4%}')\n",
        "plot_confusion_matrix(pipeline, X_test, y_test, \n",
        "                      xticks_rotation='vertical', \n",
        "                      normalize='true',\n",
        "                      values_format='.2f',\n",
        "                      cmap='Blues');"
      ],
      "execution_count": null,
      "outputs": [
        {
          "output_type": "stream",
          "text": [
            "                  precision    recall  f1-score   support\n",
            "\n",
            "     Fatal Crash       0.04      0.36      0.07      1286\n",
            "     Minor Crash       0.29      0.27      0.27     31690\n",
            "Non-Injury Crash       0.84      0.57      0.68    100367\n",
            "   Serious Crash       0.12      0.46      0.19      7822\n",
            "\n",
            "        accuracy                           0.50    141165\n",
            "       macro avg       0.32      0.42      0.30    141165\n",
            "    weighted avg       0.67      0.50      0.56    141165\n",
            "\n",
            "Train accuracy: 57.8517%\n",
            "Test accuracy: 49.7269%\n",
            "CPU times: user 1min 56s, sys: 285 ms, total: 1min 56s\n",
            "Wall time: 1min 8s\n"
          ],
          "name": "stdout"
        },
        {
          "output_type": "display_data",
          "data": {
            "image/png": "[encoded data removed]",
            "text/plain": [
              "<Figure size 432x288 with 2 Axes>"
            ]
          },
          "metadata": {
            "tags": [],
            "needs_background": "light"
          }
        }
      ]
    },
    {
      "cell_type": "code",
      "metadata": {
        "id": "BJv2bqe55cPo",
        "colab_type": "code",
        "colab": {
          "base_uri": "https://localhost:8080/",
          "height": 34
        },
        "outputId": "4414b7a8-8392-4ae9-a812-671038b43e36"
      },
      "source": [
        "(34+25+58+48)/4"
      ],
      "execution_count": null,
      "outputs": [
        {
          "output_type": "execute_result",
          "data": {
            "text/plain": [
              "41.25"
            ]
          },
          "metadata": {
            "tags": []
          },
          "execution_count": 36
        }
      ]
    },
    {
      "cell_type": "code",
      "metadata": {
        "id": "iiTqj7sJ3uhr",
        "colab_type": "code",
        "colab": {
          "base_uri": "https://localhost:8080/",
          "height": 620
        },
        "outputId": "2787e83b-4a94-4320-feac-d361e8539859"
      },
      "source": [
        "%%time\n",
        "pipeline = make_pipeline(\n",
        "    ce.ordinal.OrdinalEncoder(),\n",
        "    XGBClassifier(n_estimators=100, random_state=42, n_jobs=-1)\n",
        ")\n",
        "\n",
        "pipeline.fit(X_train_over_under, y_train_over_under)\n",
        "\n",
        "print(classification_report(y_test, pipeline.predict(X_test)))\n",
        "\n",
        "print(f'Train accuracy: {pipeline.score(X_train, y_train):.4%}')\n",
        "print(f'Test accuracy: {pipeline.score(X_test, y_test):.4%}')\n",
        "plot_confusion_matrix(pipeline, X_test, y_test, \n",
        "                      xticks_rotation='vertical', \n",
        "                      normalize='true',\n",
        "                      values_format='.2f',\n",
        "                      cmap='Blues');"
      ],
      "execution_count": null,
      "outputs": [
        {
          "output_type": "stream",
          "text": [
            "                  precision    recall  f1-score   support\n",
            "\n",
            "     Fatal Crash       0.02      0.49      0.04      1286\n",
            "     Minor Crash       0.24      0.13      0.17     31690\n",
            "Non-Injury Crash       0.83      0.50      0.62    100367\n",
            "   Serious Crash       0.10      0.39      0.16      7822\n",
            "\n",
            "        accuracy                           0.41    141165\n",
            "       macro avg       0.30      0.38      0.25    141165\n",
            "    weighted avg       0.65      0.41      0.49    141165\n",
            "\n",
            "Train accuracy: 43.6811%\n",
            "Test accuracy: 40.9230%\n",
            "CPU times: user 2min 12s, sys: 215 ms, total: 2min 12s\n",
            "Wall time: 1min 13s\n"
          ],
          "name": "stdout"
        },
        {
          "output_type": "display_data",
          "data": {
            "image/png": "[encoded data removed]",
            "text/plain": [
              "<Figure size 432x288 with 2 Axes>"
            ]
          },
          "metadata": {
            "tags": [],
            "needs_background": "light"
          }
        }
      ]
    },
    {
      "cell_type": "code",
      "metadata": {
        "id": "gPyv6hj85Nv_",
        "colab_type": "code",
        "colab": {
          "base_uri": "https://localhost:8080/",
          "height": 34
        },
        "outputId": "ab0f9775-5326-4cd0-f5dd-b5ab93b8f2b6"
      },
      "source": [
        "(47+13+49+39)/4"
      ],
      "execution_count": null,
      "outputs": [
        {
          "output_type": "execute_result",
          "data": {
            "text/plain": [
              "37.0"
            ]
          },
          "metadata": {
            "tags": []
          },
          "execution_count": 38
        }
      ]
    },
    {
      "cell_type": "code",
      "metadata": {
        "id": "vd3spQSpNBFr",
        "colab_type": "code",
        "colab": {}
      },
      "source": [
        "#=================================================== XGB HYPER PARAMITER TUNING SPACE ==================================================="
      ],
      "execution_count": null,
      "outputs": []
    },
    {
      "cell_type": "code",
      "metadata": {
        "id": "At7lul_xLvWE",
        "colab_type": "code",
        "colab": {
          "base_uri": "https://localhost:8080/",
          "height": 620
        },
        "outputId": "9b0f6638-beef-4a4b-8ec6-9f6853201736"
      },
      "source": [
        "%%time\n",
        "pipeline = make_pipeline(\n",
        "    ce.ordinal.OrdinalEncoder(),\n",
        "    XGBClassifier(n_estimators=100, random_state=42, n_jobs=-1,max_depth=4,min_child_weight=.5,subsample=.05,colsample_bytree=.1,learning_rate=.05)\n",
        ")\n",
        "\n",
        "pipeline.fit(X_train_over_under, y_train_over_under)\n",
        "\n",
        "print(classification_report(y_test, pipeline.predict(X_test)))\n",
        "\n",
        "print(f'Train accuracy: {pipeline.score(X_train, y_train):.4%}')\n",
        "print(f'Test accuracy: {pipeline.score(X_test, y_test):.4%}')\n",
        "plot_confusion_matrix(pipeline, X_test, y_test, \n",
        "                      labels=['Fatal Crash','Serious Crash','Minor Crash','Non-Injury Crash'],\n",
        "                      xticks_rotation='vertical', \n",
        "                      normalize='true',\n",
        "                      values_format='.2f',\n",
        "                      cmap='afmhot_r');"
      ],
      "execution_count": null,
      "outputs": [
        {
          "output_type": "stream",
          "text": [
            "                  precision    recall  f1-score   support\n",
            "\n",
            "     Fatal Crash       0.03      0.63      0.06      1286\n",
            "     Minor Crash       0.30      0.20      0.24     31690\n",
            "Non-Injury Crash       0.83      0.57      0.67    100367\n",
            "   Serious Crash       0.10      0.33      0.16      7822\n",
            "\n",
            "        accuracy                           0.47    141165\n",
            "       macro avg       0.31      0.43      0.28    141165\n",
            "    weighted avg       0.66      0.47      0.54    141165\n",
            "\n",
            "Train accuracy: 49.1996%\n",
            "Test accuracy: 47.1987%\n",
            "CPU times: user 1min 10s, sys: 167 ms, total: 1min 11s\n",
            "Wall time: 42.6 s\n"
          ],
          "name": "stdout"
        },
        {
          "output_type": "display_data",
          "data": {
            "image/png": "[encoded data removed]",
            "text/plain": [
              "<Figure size 432x288 with 2 Axes>"
            ]
          },
          "metadata": {
            "tags": [],
            "needs_background": "light"
          }
        }
      ]
    },
    {
      "cell_type": "code",
      "metadata": {
        "id": "qTf-GzSV_l7r",
        "colab_type": "code",
        "colab": {
          "base_uri": "https://localhost:8080/",
          "height": 132
        },
        "outputId": "1c4a66da-f6e5-4902-c1f9-8991eb715f21"
      },
      "source": [
        "bounds = [0,1]\n",
        "plot_confusion_matrix(pipeline, X_test, y_test, \n",
        "                      labels=['Fatal Crash','Serious Crash','Minor Crash','Non-Injury Crash'],\n",
        "                      xticks_rotation='vertical', \n",
        "                      normalize='true',\n",
        "                      values_format='.2f',\n",
        "                      mpl.colors.BoundaryNorm(bounds, cmap.N)\n",
        ")\n",
        "\n",
        "# fig, ax = plt.subplots(figsize=(6, 1))\n",
        "# fig.subplots_adjust(bottom=0.5)\n",
        "\n",
        "# plot_confusion_matrix(pipeline, X_test, y_test, \n",
        "#                       labels=['Fatal Crash','Serious Crash','Minor Crash','Non-Injury Crash'],\n",
        "#                       xticks_rotation='vertical', \n",
        "#                       normalize='true',\n",
        "#                       values_format='.2f',\n",
        "#                       cmap='afmhot_r');\n",
        "\n",
        "# bounds = [1, 2, 4, 7, 8]\n",
        "# norm = mpl.colors.BoundaryNorm(bounds, cmap.N)\n",
        "# fig.colorbar(\n",
        "#     mpl.cm.ScalarMappable(cmap=cmap, norm=norm),\n",
        "#     cax=ax,\n",
        "#     boundaries=[0] + bounds + [13],\n"
      ],
      "execution_count": null,
      "outputs": [
        {
          "output_type": "error",
          "ename": "SyntaxError",
          "evalue": "ignored",
          "traceback": [
            "\u001b[0;36m  File \u001b[0;32m\"<ipython-input-41-05680d2981c4>\"\u001b[0;36m, line \u001b[0;32m7\u001b[0m\n\u001b[0;31m    mpl.colors.BoundaryNorm(bounds, cmap.N)\u001b[0m\n\u001b[0m    ^\u001b[0m\n\u001b[0;31mSyntaxError\u001b[0m\u001b[0;31m:\u001b[0m positional argument follows keyword argument\n"
          ]
        }
      ]
    },
    {
      "cell_type": "code",
      "metadata": {
        "id": "sFEsoomYf25R",
        "colab_type": "code",
        "colab": {}
      },
      "source": [
        "rf = pipeline.named_steps['xgbclassifier']\n",
        "importances = pd.Series(rf.feature_importances_, X_train.columns)\n",
        "n = 10\n",
        "\n",
        "plt.figure(figsize=(10,n/2),dpi=500)\n",
        "plt.title(f'Top {n} features')\n",
        "importances.sort_values()[-n:].plot.barh(color='darkorange')\n",
        "plt.show()"
      ],
      "execution_count": null,
      "outputs": []
    },
    {
      "cell_type": "code",
      "metadata": {
        "id": "GImsATVvjRPY",
        "colab_type": "code",
        "colab": {}
      },
      "source": [
        "rf = pipeline.named_steps['xgbclassifier']\n",
        "importances = pd.Series(rf.feature_importances_, X_train.columns)\n",
        "n = 10\n",
        "\n",
        "plt.figure(figsize=(10,n/2))\n",
        "plt.title(f'Top {n} features')\n",
        "importances.sort_values()[:n].plot.barh()\n",
        "plt.show()"
      ],
      "execution_count": null,
      "outputs": []
    },
    {
      "cell_type": "code",
      "metadata": {
        "id": "iEWzD7vljYak",
        "colab_type": "code",
        "colab": {}
      },
      "source": [
        "X_train['strayAnimal'].nunique()"
      ],
      "execution_count": null,
      "outputs": []
    },
    {
      "cell_type": "code",
      "metadata": {
        "id": "PTLlBaaKjgAm",
        "colab_type": "code",
        "colab": {}
      },
      "source": [
        "X_train['strayAnimal'].value_counts()"
      ],
      "execution_count": null,
      "outputs": []
    },
    {
      "cell_type": "code",
      "metadata": {
        "id": "6k1Jv8D-g6wm",
        "colab_type": "code",
        "colab": {}
      },
      "source": [
        "X_train.shape"
      ],
      "execution_count": null,
      "outputs": []
    },
    {
      "cell_type": "code",
      "metadata": {
        "id": "Ixpcilk5hzPT",
        "colab_type": "code",
        "colab": {}
      },
      "source": [
        "X_train['crashLocation2'].nunique()"
      ],
      "execution_count": null,
      "outputs": []
    },
    {
      "cell_type": "code",
      "metadata": {
        "id": "zSVxlLYSinMv",
        "colab_type": "code",
        "colab": {}
      },
      "source": [
        "X_train['crashLocation2']"
      ],
      "execution_count": null,
      "outputs": []
    },
    {
      "cell_type": "code",
      "metadata": {
        "id": "tuKwi3BJikR1",
        "colab_type": "code",
        "colab": {}
      },
      "source": [
        "X_train['crashLocation1']"
      ],
      "execution_count": null,
      "outputs": []
    }
  ]
}