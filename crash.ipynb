{
  "nbformat": 4,
  "nbformat_minor": 0,
  "metadata": {
    "kernelspec": {
      "display_name": "Python 3",
      "language": "python",
      "name": "python3"
    },
    "language_info": {
      "codemirror_mode": {
        "name": "ipython",
        "version": 3
      },
      "file_extension": ".py",
      "mimetype": "text/x-python",
      "name": "python",
      "nbconvert_exporter": "python",
      "pygments_lexer": "ipython3",
      "version": "3.7.6"
    },
    "colab": {
      "name": "crash.ipynb",
      "provenance": []
    }
  },
  "cells": [
    {
      "cell_type": "markdown",
      "metadata": {
        "id": "CGefXzvGY9P1",
        "colab_type": "text"
      },
      "source": [
        "\n",
        "Lambda School Data Science\n",
        "\n",
        "*Unit 2, Sprint 3, Module 4*\n",
        "\n",
        "---"
      ]
    },
    {
      "cell_type": "markdown",
      "metadata": {
        "id": "gtsW0EVOY9P2",
        "colab_type": "text"
      },
      "source": [
        "# Model Interpretation\n",
        "\n",
        "You will use your portfolio project dataset for all assignments this sprint.\n",
        "\n",
        "## Assignment\n",
        "\n",
        "Complete these tasks for your project, and document your work.\n",
        "\n",
        "- [ ] Continue to iterate on your project: data cleaning, exploratory visualization, feature engineering, modeling.\n",
        "- [ ] Make at least 1 partial dependence plot to explain your model.\n",
        "- [ ] Make at least 1 Shapley force plot to explain an individual prediction.\n",
        "- [ ] **Share at least 1 visualization (of any type) on Slack!**\n",
        "\n",
        "If you aren't ready to make these plots with your own dataset, you can practice these objectives with any dataset you've worked with previously. Example solutions are available for Partial Dependence Plots with the Tanzania Waterpumps dataset, and Shapley force plots with the Titanic dataset. (These datasets are available in the data directory of this repository.)\n",
        "\n",
        "Please be aware that **multi-class classification** will result in multiple Partial Dependence Plots (one for each class), and multiple sets of Shapley Values (one for each class)."
      ]
    },
    {
      "cell_type": "markdown",
      "metadata": {
        "id": "Nw7iWIdfY9P2",
        "colab_type": "text"
      },
      "source": [
        "## Stretch Goals\n",
        "\n",
        "#### Partial Dependence Plots\n",
        "- [ ] Make multiple PDPs with 1 feature in isolation.\n",
        "- [ ] Make multiple PDPs with 2 features in interaction. \n",
        "- [ ] Use Plotly to make a 3D PDP.\n",
        "- [ ] Make PDPs with categorical feature(s). Use Ordinal Encoder, outside of a pipeline, to encode your data first. If there is a natural ordering, then take the time to encode it that way, instead of random integers. Then use the encoded data with pdpbox. Get readable category names on your plot, instead of integer category codes.\n",
        "\n",
        "#### Shap Values\n",
        "- [ ] Make Shapley force plots to explain at least 4 individual predictions.\n",
        "    - If your project is Binary Classification, you can do a True Positive, True Negative, False Positive, False Negative.\n",
        "    - If your project is Regression, you can do a high prediction with low error, a low prediction with low error, a high prediction with high error, and a low prediction with high error.\n",
        "- [ ] Use Shapley values to display verbal explanations of individual predictions.\n",
        "- [ ] Use the SHAP library for other visualization types.\n",
        "\n",
        "The [SHAP repo](https://github.com/slundberg/shap) has examples for many visualization types, including:\n",
        "\n",
        "- Force Plot, individual predictions\n",
        "- Force Plot, multiple predictions\n",
        "- Dependence Plot\n",
        "- Summary Plot\n",
        "- Summary Plot, Bar\n",
        "- Interaction Values\n",
        "- Decision Plots\n",
        "\n",
        "We just did the first type during the lesson. The [Kaggle microcourse](https://www.kaggle.com/dansbecker/advanced-uses-of-shap-values) shows two more. Experiment and see what you can learn!"
      ]
    },
    {
      "cell_type": "markdown",
      "metadata": {
        "id": "HVxa47QlY9P3",
        "colab_type": "text"
      },
      "source": [
        "### Links\n",
        "\n",
        "#### Partial Dependence Plots\n",
        "- [Kaggle / Dan Becker: Machine Learning Explainability — Partial Dependence Plots](https://www.kaggle.com/dansbecker/partial-plots)\n",
        "- [Christoph Molnar: Interpretable Machine Learning — Partial Dependence Plots](https://christophm.github.io/interpretable-ml-book/pdp.html) + [animated explanation](https://twitter.com/ChristophMolnar/status/1066398522608635904)\n",
        "- [pdpbox repo](https://github.com/SauceCat/PDPbox) & [docs](https://pdpbox.readthedocs.io/en/latest/)\n",
        "- [Plotly: 3D PDP example](https://plot.ly/scikit-learn/plot-partial-dependence/#partial-dependence-of-house-value-on-median-age-and-average-occupancy)\n",
        "\n",
        "#### Shapley Values\n",
        "- [Kaggle / Dan Becker: Machine Learning Explainability — SHAP Values](https://www.kaggle.com/learn/machine-learning-explainability)\n",
        "- [Christoph Molnar: Interpretable Machine Learning — Shapley Values](https://christophm.github.io/interpretable-ml-book/shapley.html)\n",
        "- [SHAP repo](https://github.com/slundberg/shap) & [docs](https://shap.readthedocs.io/en/latest/)"
      ]
    },
    {
      "cell_type": "code",
      "metadata": {
        "id": "SJNRNUkVY9P4",
        "colab_type": "code",
        "colab": {}
      },
      "source": [
        "# %%capture\n",
        "# import sys\n",
        "\n",
        "# # If you're on Colab:\n",
        "# if 'google.colab' in sys.modules:\n",
        "#     DATA_PATH = 'https://raw.githubusercontent.com/LambdaSchool/DS-Unit-2-Applied-Modeling/master/data/'\n",
        "#     !pip install category_encoders==2.*\n",
        "#     !pip install eli5\n",
        "#     !pip install pdpbox\n",
        "#     !pip install shap\n",
        "\n",
        "# # If you're working locally:\n",
        "# else:\n",
        "#     DATA_PATH = '../data/'"
      ],
      "execution_count": null,
      "outputs": []
    },
    {
      "cell_type": "code",
      "metadata": {
        "id": "HQ9qaB3CY9P8",
        "colab_type": "code",
        "colab": {}
      },
      "source": [
        "%%capture\n",
        "!pip install category_encoders==2.*"
      ],
      "execution_count": null,
      "outputs": []
    },
    {
      "cell_type": "code",
      "metadata": {
        "id": "oM_dQ-CPlyBd",
        "colab_type": "code",
        "colab": {
          "base_uri": "https://localhost:8080/",
          "height": 250
        },
        "outputId": "35776bcb-1b36-40b6-a519-ce6b7e753564"
      },
      "source": [
        "# important imports\n",
        "import pandas as pd\n",
        "import matplotlib.pyplot as plt\n",
        "import plotly.express as px\n",
        "from sklearn import preprocessing\n",
        "import seaborn as sns\n",
        "from sklearn.ensemble import RandomForestRegressor\n",
        "from sklearn.ensemble import RandomForestClassifier\n",
        "from sklearn.model_selection import cross_val_score\n",
        "from sklearn.pipeline import make_pipeline\n",
        "from sklearn.impute import SimpleImputer\n",
        "from sklearn.model_selection import train_test_split\n",
        "import category_encoders as ce\n",
        "from sklearn.tree import DecisionTreeClassifier\n",
        "from sklearn.linear_model import LogisticRegression\n",
        "import numpy as np\n",
        "from xgboost import XGBClassifier\n",
        "from sklearn.metrics import plot_confusion_matrix\n",
        "from sklearn.metrics import confusion_matrix\n",
        "from sklearn.metrics import recall_score\n",
        "from sklearn.metrics import precision_score\n",
        "from sklearn.svm import SVC\n",
        "from sklearn.preprocessing import StandardScaler\n",
        "from collections import Counter\n",
        "from sklearn.datasets import make_classification\n",
        "from imblearn.under_sampling import RandomUnderSampler\n",
        "from sklearn.metrics import classification_report"
      ],
      "execution_count": null,
      "outputs": [
        {
          "output_type": "stream",
          "text": [
            "/usr/local/lib/python3.6/dist-packages/statsmodels/tools/_testing.py:19: FutureWarning:\n",
            "\n",
            "pandas.util.testing is deprecated. Use the functions in the public API at pandas.testing instead.\n",
            "\n",
            "/usr/local/lib/python3.6/dist-packages/sklearn/externals/six.py:31: FutureWarning:\n",
            "\n",
            "The module is deprecated in version 0.21 and will be removed in version 0.23 since we've dropped support for Python 2.7. Please rely on the official version of six (https://pypi.org/project/six/).\n",
            "\n",
            "/usr/local/lib/python3.6/dist-packages/sklearn/utils/deprecation.py:144: FutureWarning:\n",
            "\n",
            "The sklearn.neighbors.base module is  deprecated in version 0.22 and will be removed in version 0.24. The corresponding classes / functions should instead be imported from sklearn.neighbors. Anything that cannot be imported from sklearn.neighbors is now part of the private API.\n",
            "\n"
          ],
          "name": "stderr"
        }
      ]
    },
    {
      "cell_type": "code",
      "metadata": {
        "id": "eWvW5ebjl1l0",
        "colab_type": "code",
        "colab": {
          "base_uri": "https://localhost:8080/",
          "height": 125
        },
        "outputId": "af9bdc3b-3090-4cfe-a87d-94989f71c2b1"
      },
      "source": [
        "from google.colab import drive\n",
        "drive.mount('/content/drive')"
      ],
      "execution_count": null,
      "outputs": [
        {
          "output_type": "stream",
          "text": [
            "Go to this URL in a browser: https://accounts.google.com/o/oauth2/auth?client_id=947318989803-6bn6qk8qdgf4n4g3pfee6491hc0brc4i.apps.googleusercontent.com&redirect_uri=urn%3aietf%3awg%3aoauth%3a2.0%3aoob&response_type=code&scope=email%20https%3a%2f%2fwww.googleapis.com%2fauth%2fdocs.test%20https%3a%2f%2fwww.googleapis.com%2fauth%2fdrive%20https%3a%2f%2fwww.googleapis.com%2fauth%2fdrive.photos.readonly%20https%3a%2f%2fwww.googleapis.com%2fauth%2fpeopleapi.readonly\n",
            "\n",
            "Enter your authorization code:\n",
            "··········\n",
            "Mounted at /content/drive\n"
          ],
          "name": "stdout"
        }
      ]
    },
    {
      "cell_type": "code",
      "metadata": {
        "id": "Xmvd8oSnmDY9",
        "colab_type": "code",
        "colab": {
          "base_uri": "https://localhost:8080/",
          "height": 114
        },
        "outputId": "0f97780a-a63e-4dcb-c231-8b21ba85a5c2"
      },
      "source": [
        "file='/content/drive/My Drive/data sets/Crash_Analysis_System_CAS_data.csv'\n",
        "dfcrash=pd.read_csv(file, error_bad_lines=False)\n",
        "dfcrash.sample()"
      ],
      "execution_count": null,
      "outputs": [
        {
          "output_type": "execute_result",
          "data": {
            "text/html": [
              "<div>\n",
              "<style scoped>\n",
              "    .dataframe tbody tr th:only-of-type {\n",
              "        vertical-align: middle;\n",
              "    }\n",
              "\n",
              "    .dataframe tbody tr th {\n",
              "        vertical-align: top;\n",
              "    }\n",
              "\n",
              "    .dataframe thead th {\n",
              "        text-align: right;\n",
              "    }\n",
              "</style>\n",
              "<table border=\"1\" class=\"dataframe\">\n",
              "  <thead>\n",
              "    <tr style=\"text-align: right;\">\n",
              "      <th></th>\n",
              "      <th>X</th>\n",
              "      <th>Y</th>\n",
              "      <th>OBJECTID</th>\n",
              "      <th>advisorySpeed</th>\n",
              "      <th>animals</th>\n",
              "      <th>areaUnitID</th>\n",
              "      <th>bicycle</th>\n",
              "      <th>bridge</th>\n",
              "      <th>bus</th>\n",
              "      <th>carStationWagon</th>\n",
              "      <th>cliffBank</th>\n",
              "      <th>crashDirectionDescription</th>\n",
              "      <th>crashDistance</th>\n",
              "      <th>crashFinancialYear</th>\n",
              "      <th>crashLocation1</th>\n",
              "      <th>crashLocation2</th>\n",
              "      <th>crashSeverity</th>\n",
              "      <th>crashSHDescription</th>\n",
              "      <th>crashYear</th>\n",
              "      <th>debris</th>\n",
              "      <th>directionRoleDescription</th>\n",
              "      <th>ditch</th>\n",
              "      <th>easting</th>\n",
              "      <th>fatalCount</th>\n",
              "      <th>fence</th>\n",
              "      <th>flatHill</th>\n",
              "      <th>guardRail</th>\n",
              "      <th>holiday</th>\n",
              "      <th>houseOrBuilding</th>\n",
              "      <th>intersectionMidblock</th>\n",
              "      <th>junctionType</th>\n",
              "      <th>kerb</th>\n",
              "      <th>light</th>\n",
              "      <th>meshblockId</th>\n",
              "      <th>minorInjuryCount</th>\n",
              "      <th>moped</th>\n",
              "      <th>motorcycle</th>\n",
              "      <th>northing</th>\n",
              "      <th>NumberOfLanes</th>\n",
              "      <th>objectThrownOrDropped</th>\n",
              "      <th>otherObject</th>\n",
              "      <th>otherVehicleType</th>\n",
              "      <th>outdatedLocationDescription</th>\n",
              "      <th>overBank</th>\n",
              "      <th>parkedVehicle</th>\n",
              "      <th>pedestrian</th>\n",
              "      <th>phoneBoxEtc</th>\n",
              "      <th>postOrPole</th>\n",
              "      <th>region</th>\n",
              "      <th>roadCharacter</th>\n",
              "      <th>roadCurvature</th>\n",
              "      <th>roadLane</th>\n",
              "      <th>roadMarkings</th>\n",
              "      <th>roadSurface</th>\n",
              "      <th>roadworks</th>\n",
              "      <th>schoolBus</th>\n",
              "      <th>seriousInjuryCount</th>\n",
              "      <th>slipOrFlood</th>\n",
              "      <th>speedLimit</th>\n",
              "      <th>strayAnimal</th>\n",
              "      <th>streetLight</th>\n",
              "      <th>suv</th>\n",
              "      <th>taxi</th>\n",
              "      <th>temporarySpeedLimit</th>\n",
              "      <th>tlaId</th>\n",
              "      <th>tlaName</th>\n",
              "      <th>trafficControl</th>\n",
              "      <th>trafficIsland</th>\n",
              "      <th>trafficSign</th>\n",
              "      <th>train</th>\n",
              "      <th>tree</th>\n",
              "      <th>truck</th>\n",
              "      <th>unknownVehicleType</th>\n",
              "      <th>urban</th>\n",
              "      <th>vanOrUtility</th>\n",
              "      <th>vehicle</th>\n",
              "      <th>waterRiver</th>\n",
              "      <th>weatherA</th>\n",
              "      <th>weatherB</th>\n",
              "    </tr>\n",
              "  </thead>\n",
              "  <tbody>\n",
              "    <tr>\n",
              "      <th>471687</th>\n",
              "      <td>1547909.0</td>\n",
              "      <td>5202482.0</td>\n",
              "      <td>469688</td>\n",
              "      <td>NaN</td>\n",
              "      <td>0.0</td>\n",
              "      <td>586114.0</td>\n",
              "      <td>0.0</td>\n",
              "      <td>0.0</td>\n",
              "      <td>0.0</td>\n",
              "      <td>0.0</td>\n",
              "      <td>0.0</td>\n",
              "      <td>Null</td>\n",
              "      <td>NaN</td>\n",
              "      <td>2009</td>\n",
              "      <td>WOODFIELDS ROAD</td>\n",
              "      <td>HOWSONS ROAD</td>\n",
              "      <td>Minor Crash</td>\n",
              "      <td>No</td>\n",
              "      <td>2008</td>\n",
              "      <td>0.0</td>\n",
              "      <td>East</td>\n",
              "      <td>0.0</td>\n",
              "      <td>1547909.0</td>\n",
              "      <td>0.0</td>\n",
              "      <td>1.0</td>\n",
              "      <td>Flat</td>\n",
              "      <td>0.0</td>\n",
              "      <td>NaN</td>\n",
              "      <td>0.0</td>\n",
              "      <td>Intersection</td>\n",
              "      <td>Crossroads</td>\n",
              "      <td>0.0</td>\n",
              "      <td>Bright sun</td>\n",
              "      <td>2450803.0</td>\n",
              "      <td>2.0</td>\n",
              "      <td>0.0</td>\n",
              "      <td>0.0</td>\n",
              "      <td>5202482.0</td>\n",
              "      <td>2.0</td>\n",
              "      <td>0.0</td>\n",
              "      <td>0.0</td>\n",
              "      <td>0.0</td>\n",
              "      <td>Current location</td>\n",
              "      <td>0.0</td>\n",
              "      <td>0.0</td>\n",
              "      <td>NaN</td>\n",
              "      <td>0.0</td>\n",
              "      <td>0.0</td>\n",
              "      <td>Canterbury Region</td>\n",
              "      <td>Nil</td>\n",
              "      <td>Straight</td>\n",
              "      <td>2-way</td>\n",
              "      <td>NaN</td>\n",
              "      <td>Unsealed</td>\n",
              "      <td>0.0</td>\n",
              "      <td>0.0</td>\n",
              "      <td>0.0</td>\n",
              "      <td>0.0</td>\n",
              "      <td>100.0</td>\n",
              "      <td>0.0</td>\n",
              "      <td>Null</td>\n",
              "      <td>2.0</td>\n",
              "      <td>0.0</td>\n",
              "      <td>NaN</td>\n",
              "      <td>59.0</td>\n",
              "      <td>Waimakariri District</td>\n",
              "      <td>Give way</td>\n",
              "      <td>0.0</td>\n",
              "      <td>0.0</td>\n",
              "      <td>0.0</td>\n",
              "      <td>0.0</td>\n",
              "      <td>0.0</td>\n",
              "      <td>0.0</td>\n",
              "      <td>Open</td>\n",
              "      <td>0.0</td>\n",
              "      <td>0.0</td>\n",
              "      <td>0.0</td>\n",
              "      <td>Fine</td>\n",
              "      <td>Null</td>\n",
              "    </tr>\n",
              "  </tbody>\n",
              "</table>\n",
              "</div>"
            ],
            "text/plain": [
              "                X          Y  OBJECTID  ...  waterRiver  weatherA  weatherB\n",
              "471687  1547909.0  5202482.0    469688  ...         0.0      Fine      Null\n",
              "\n",
              "[1 rows x 79 columns]"
            ]
          },
          "metadata": {
            "tags": []
          },
          "execution_count": 5
        }
      ]
    },
    {
      "cell_type": "code",
      "metadata": {
        "id": "4tUCM_xomHp3",
        "colab_type": "code",
        "colab": {}
      },
      "source": [
        "target='crashSeverity'\n",
        "features=dfcrash.columns.drop([target,'OBJECTID','roadMarkings','minorInjuryCount','fatalCount','seriousInjuryCount'])\n",
        "\n",
        "train, test = train_test_split(dfcrash, train_size=0.80, test_size=0.20, \n",
        "                              stratify=dfcrash[target], random_state=42)\n",
        "\n",
        "def wrangle(df):\n",
        "  df=df.copy()\n",
        "  df['holiday']=df['holiday'].replace('unknown',np.nan)\n",
        "  df=df.replace(0,np.nan)\n",
        "  return df\n",
        "\n",
        "train=wrangle(train)\n",
        "test=wrangle(test)\n",
        "\n",
        "X_train = train[features]\n",
        "y_train = train[target]\n",
        "X_test = test[features]\n",
        "y_test = test[target]"
      ],
      "execution_count": null,
      "outputs": []
    },
    {
      "cell_type": "code",
      "metadata": {
        "id": "vnQTWLrCmJiP",
        "colab_type": "code",
        "colab": {
          "base_uri": "https://localhost:8080/",
          "height": 34
        },
        "outputId": "7b39e81f-9fe6-41ae-b0f1-a08b9968249e"
      },
      "source": [
        "baseline=(y_train.value_counts(normalize=True)[0])\n",
        "print(f'The majority class baseline is: {baseline:.4%}')"
      ],
      "execution_count": null,
      "outputs": [
        {
          "output_type": "stream",
          "text": [
            "The majority class baseline is: 71.0987%\n"
          ],
          "name": "stdout"
        }
      ]
    },
    {
      "cell_type": "code",
      "metadata": {
        "id": "gLtintWNmMJm",
        "colab_type": "code",
        "colab": {
          "base_uri": "https://localhost:8080/",
          "height": 34
        },
        "outputId": "54292542-eedb-445c-c46e-d7a4bdf53159"
      },
      "source": [
        "df_wrangle=wrangle(dfcrash)\n",
        "df_wrangle.shape"
      ],
      "execution_count": null,
      "outputs": [
        {
          "output_type": "execute_result",
          "data": {
            "text/plain": [
              "(705824, 79)"
            ]
          },
          "metadata": {
            "tags": []
          },
          "execution_count": 8
        }
      ]
    },
    {
      "cell_type": "code",
      "metadata": {
        "id": "MYV6ySECmZjO",
        "colab_type": "code",
        "colab": {
          "base_uri": "https://localhost:8080/",
          "height": 105
        },
        "outputId": "eb92b01f-bb86-4877-ae7d-277865803c82"
      },
      "source": [
        "dfcrash['crashSeverity'].value_counts()"
      ],
      "execution_count": null,
      "outputs": [
        {
          "output_type": "execute_result",
          "data": {
            "text/plain": [
              "Non-Injury Crash    501832\n",
              "Minor Crash         158452\n",
              "Serious Crash        39112\n",
              "Fatal Crash           6428\n",
              "Name: crashSeverity, dtype: int64"
            ]
          },
          "metadata": {
            "tags": []
          },
          "execution_count": 9
        }
      ]
    },
    {
      "cell_type": "code",
      "metadata": {
        "id": "2a9Cm_2SmcnC",
        "colab_type": "code",
        "colab": {
          "base_uri": "https://localhost:8080/",
          "height": 105
        },
        "outputId": "2d7ecf44-bbe9-4865-d8bc-ea481fd79d86"
      },
      "source": [
        "dfcrash['crashSeverity'].value_counts(normalize=True)"
      ],
      "execution_count": null,
      "outputs": [
        {
          "output_type": "execute_result",
          "data": {
            "text/plain": [
              "Non-Injury Crash    0.710987\n",
              "Minor Crash         0.224492\n",
              "Serious Crash       0.055413\n",
              "Fatal Crash         0.009107\n",
              "Name: crashSeverity, dtype: float64"
            ]
          },
          "metadata": {
            "tags": []
          },
          "execution_count": 10
        }
      ]
    },
    {
      "cell_type": "code",
      "metadata": {
        "id": "hz6YrZ5Ym6Kk",
        "colab_type": "code",
        "colab": {
          "base_uri": "https://localhost:8080/",
          "height": 797
        },
        "outputId": "c0859534-53d1-4504-bf42-02314afaee81"
      },
      "source": [
        "%%time\n",
        "pipeline = make_pipeline(\n",
        "    ce.ordinal.OrdinalEncoder(),\n",
        "    SimpleImputer(), \n",
        "    StandardScaler(),\n",
        "    LogisticRegression()\n",
        ")\n",
        "\n",
        "pipeline.fit(X_train, y_train)\n",
        "\n",
        "print(classification_report(y_test, pipeline.predict(X_test)))\n",
        "\n",
        "print(f'Train accuracy: {pipeline.score(X_train, y_train):.4%}')\n",
        "print(f'Test accuracy: {pipeline.score(X_test, y_test):.4%}')\n",
        "plot_confusion_matrix(pipeline, X_test, y_test, \n",
        "                      xticks_rotation='vertical', \n",
        "                      normalize='true',\n",
        "                      values_format='.2f',\n",
        "                      cmap='Blues');"
      ],
      "execution_count": null,
      "outputs": [
        {
          "output_type": "stream",
          "text": [
            "/usr/local/lib/python3.6/dist-packages/sklearn/linear_model/_logistic.py:940: ConvergenceWarning:\n",
            "\n",
            "lbfgs failed to converge (status=1):\n",
            "STOP: TOTAL NO. of ITERATIONS REACHED LIMIT.\n",
            "\n",
            "Increase the number of iterations (max_iter) or scale the data as shown in:\n",
            "    https://scikit-learn.org/stable/modules/preprocessing.html\n",
            "Please also refer to the documentation for alternative solver options:\n",
            "    https://scikit-learn.org/stable/modules/linear_model.html#logistic-regression\n",
            "\n"
          ],
          "name": "stderr"
        },
        {
          "output_type": "stream",
          "text": [
            "                  precision    recall  f1-score   support\n",
            "\n",
            "     Fatal Crash       0.25      0.00      0.00      1286\n",
            "     Minor Crash       0.29      0.00      0.00     31690\n",
            "Non-Injury Crash       0.71      1.00      0.83    100367\n",
            "   Serious Crash       0.40      0.00      0.00      7822\n",
            "\n",
            "        accuracy                           0.71    141165\n",
            "       macro avg       0.41      0.25      0.21    141165\n",
            "    weighted avg       0.60      0.71      0.59    141165\n",
            "\n",
            "Train accuracy: 71.0848%\n",
            "Test accuracy: 71.0849%\n",
            "CPU times: user 1min 20s, sys: 15.5 s, total: 1min 35s\n",
            "Wall time: 1min 6s\n"
          ],
          "name": "stdout"
        },
        {
          "output_type": "display_data",
          "data": {
            "image/png": "[encoded data removed]",
            "text/plain": [
              "<Figure size 432x288 with 2 Axes>"
            ]
          },
          "metadata": {
            "tags": [],
            "needs_background": "light"
          }
        }
      ]
    },
    {
      "cell_type": "code",
      "metadata": {
        "id": "f0AywtQtnT4m",
        "colab_type": "code",
        "colab": {
          "base_uri": "https://localhost:8080/",
          "height": 620
        },
        "outputId": "e3aeceec-69f9-4510-f547-5b85716829d4"
      },
      "source": [
        "%%time\n",
        "pipeline = make_pipeline(\n",
        "    ce.ordinal.OrdinalEncoder(),\n",
        "    SimpleImputer(strategy='median'), \n",
        "    DecisionTreeClassifier()\n",
        ")\n",
        "\n",
        "pipeline.fit(X_train, y_train)\n",
        "\n",
        "print(classification_report(y_test, pipeline.predict(X_test)))\n",
        "\n",
        "print(f'Train accuracy: {pipeline.score(X_train, y_train):.4%}')\n",
        "print(f'Test accuracy: {pipeline.score(X_test, y_test):.4%}')\n",
        "plot_confusion_matrix(pipeline, X_test, y_test, \n",
        "                      xticks_rotation='vertical', \n",
        "                      normalize='true',\n",
        "                      values_format='.2f',\n",
        "                      cmap='Blues');"
      ],
      "execution_count": null,
      "outputs": [
        {
          "output_type": "stream",
          "text": [
            "                  precision    recall  f1-score   support\n",
            "\n",
            "     Fatal Crash       0.03      0.03      0.03      1286\n",
            "     Minor Crash       0.26      0.28      0.27     31690\n",
            "Non-Injury Crash       0.74      0.72      0.73    100367\n",
            "   Serious Crash       0.10      0.11      0.10      7822\n",
            "\n",
            "        accuracy                           0.58    141165\n",
            "       macro avg       0.28      0.28      0.28    141165\n",
            "    weighted avg       0.59      0.58      0.58    141165\n",
            "\n",
            "Train accuracy: 99.9543%\n",
            "Test accuracy: 57.7785%\n",
            "CPU times: user 51.1 s, sys: 391 ms, total: 51.5 s\n",
            "Wall time: 51.5 s\n"
          ],
          "name": "stdout"
        },
        {
          "output_type": "display_data",
          "data": {
            "image/png": "[encoded data removed]",
            "text/plain": [
              "<Figure size 432x288 with 2 Axes>"
            ]
          },
          "metadata": {
            "tags": [],
            "needs_background": "light"
          }
        }
      ]
    },
    {
      "cell_type": "code",
      "metadata": {
        "id": "AKPlUTDlm_g7",
        "colab_type": "code",
        "colab": {
          "base_uri": "https://localhost:8080/",
          "height": 620
        },
        "outputId": "2b519ebf-e0a9-4bea-d034-298facc88df5"
      },
      "source": [
        "%%time\n",
        "pipeline = make_pipeline(\n",
        "    ce.ordinal.OrdinalEncoder(),\n",
        "    SimpleImputer(), \n",
        "    RandomForestClassifier(n_estimators=100, n_jobs=-1, random_state=42, max_depth=40, min_samples_leaf=2)\n",
        ")\n",
        "\n",
        "pipeline.fit(X_train, y_train)\n",
        "\n",
        "print(classification_report(y_test, pipeline.predict(X_test)))\n",
        "\n",
        "print(f'Train accuracy: {pipeline.score(X_train, y_train):.4%}')\n",
        "print(f'Test accuracy: {pipeline.score(X_test, y_test):.4%}')\n",
        "plot_confusion_matrix(pipeline, X_test, y_test, \n",
        "                      xticks_rotation='vertical', \n",
        "                      normalize='true',\n",
        "                      values_format='.2f',\n",
        "                      cmap='Blues');"
      ],
      "execution_count": null,
      "outputs": [
        {
          "output_type": "stream",
          "text": [
            "                  precision    recall  f1-score   support\n",
            "\n",
            "     Fatal Crash       0.43      0.00      0.00      1286\n",
            "     Minor Crash       0.56      0.24      0.33     31690\n",
            "Non-Injury Crash       0.77      0.97      0.86    100367\n",
            "   Serious Crash       0.41      0.05      0.09      7822\n",
            "\n",
            "        accuracy                           0.75    141165\n",
            "       macro avg       0.54      0.31      0.32    141165\n",
            "    weighted avg       0.70      0.75      0.69    141165\n",
            "\n",
            "Train accuracy: 89.5259%\n",
            "Test accuracy: 74.5666%\n",
            "CPU times: user 9min 26s, sys: 1.16 s, total: 9min 27s\n",
            "Wall time: 5min 1s\n"
          ],
          "name": "stdout"
        },
        {
          "output_type": "display_data",
          "data": {
            "image/png": "[encoded data removed]",
            "text/plain": [
              "<Figure size 432x288 with 2 Axes>"
            ]
          },
          "metadata": {
            "tags": [],
            "needs_background": "light"
          }
        }
      ]
    },
    {
      "cell_type": "code",
      "metadata": {
        "id": "TIDfACMdnnX7",
        "colab_type": "code",
        "colab": {
          "base_uri": "https://localhost:8080/",
          "height": 620
        },
        "outputId": "4f9ece60-18b3-406a-ed44-423db1ca5af2"
      },
      "source": [
        "%%time\n",
        "pipeline = make_pipeline(\n",
        "    ce.ordinal.OrdinalEncoder(),\n",
        "    XGBClassifier(n_estimators=100, random_state=42, n_jobs=-1)\n",
        ")\n",
        "\n",
        "pipeline.fit(X_train, y_train)\n",
        "\n",
        "print(classification_report(y_test, pipeline.predict(X_test)))\n",
        "\n",
        "print(f'Train accuracy: {pipeline.score(X_train, y_train):.4%}')\n",
        "print(f'Test accuracy: {pipeline.score(X_test, y_test):.4%}')\n",
        "plot_confusion_matrix(pipeline, X_test, y_test, \n",
        "                      xticks_rotation='vertical', \n",
        "                      normalize='true',\n",
        "                      values_format='.2f',\n",
        "                      cmap='Blues');"
      ],
      "execution_count": null,
      "outputs": [
        {
          "output_type": "stream",
          "text": [
            "                  precision    recall  f1-score   support\n",
            "\n",
            "     Fatal Crash       0.33      0.00      0.00      1286\n",
            "     Minor Crash       0.57      0.23      0.33     31690\n",
            "Non-Injury Crash       0.77      0.98      0.86    100367\n",
            "   Serious Crash       0.51      0.03      0.06      7822\n",
            "\n",
            "        accuracy                           0.75    141165\n",
            "       macro avg       0.54      0.31      0.31    141165\n",
            "    weighted avg       0.70      0.75      0.69    141165\n",
            "\n",
            "Train accuracy: 74.7038%\n",
            "Test accuracy: 74.6977%\n",
            "CPU times: user 11min 34s, sys: 526 ms, total: 11min 34s\n",
            "Wall time: 6min\n"
          ],
          "name": "stdout"
        },
        {
          "output_type": "display_data",
          "data": {
            "image/png": "[encoded data removed]",
            "text/plain": [
              "<Figure size 432x288 with 2 Axes>"
            ]
          },
          "metadata": {
            "tags": [],
            "needs_background": "light"
          }
        }
      ]
    },
    {
      "cell_type": "code",
      "metadata": {
        "id": "EBgryKPCracH",
        "colab_type": "code",
        "colab": {
          "base_uri": "https://localhost:8080/",
          "height": 105
        },
        "outputId": "cd480142-e1a7-4802-a5d5-cf3b962e87cb"
      },
      "source": [
        "train['crashSeverity'].value_counts()"
      ],
      "execution_count": null,
      "outputs": [
        {
          "output_type": "execute_result",
          "data": {
            "text/plain": [
              "Non-Injury Crash    401465\n",
              "Minor Crash         126762\n",
              "Serious Crash        31290\n",
              "Fatal Crash           5142\n",
              "Name: crashSeverity, dtype: int64"
            ]
          },
          "metadata": {
            "tags": []
          },
          "execution_count": 15
        }
      ]
    },
    {
      "cell_type": "code",
      "metadata": {
        "id": "rRG4kA7Hzmwz",
        "colab_type": "code",
        "colab": {}
      },
      "source": [
        "Fatal_Crash = train[train[target]=='Fatal Crash']\n",
        "# Fatal_Crash=Fatal_Crash.append(Fatal_Crash)\n",
        "Fatal_Crash.shape[0]\n",
        "\n",
        "Serious_Crash = train[train[target]=='Serious Crash'].sample(Fatal_Crash.shape[0])\n",
        "Minor_Crash = train[train[target]=='Minor Crash'].sample(Fatal_Crash.shape[0])\n",
        "Non_Injury_Crash = train[train[target]=='Non-Injury Crash'].sample(Fatal_Crash.shape[0])\n",
        "\n",
        "train_undersample  = pd.concat([Fatal_Crash,\n",
        "                    Serious_Crash,\n",
        "                    Minor_Crash,\n",
        "                    Non_Injury_Crash],\n",
        "                            axis=0)"
      ],
      "execution_count": null,
      "outputs": []
    },
    {
      "cell_type": "code",
      "metadata": {
        "id": "r16ytpXA0mTp",
        "colab_type": "code",
        "colab": {
          "base_uri": "https://localhost:8080/",
          "height": 105
        },
        "outputId": "3d120595-b5fc-4422-cd25-dfde02513a4b"
      },
      "source": [
        "train_undersample['crashSeverity'].value_counts()"
      ],
      "execution_count": null,
      "outputs": [
        {
          "output_type": "execute_result",
          "data": {
            "text/plain": [
              "Non-Injury Crash    5142\n",
              "Serious Crash       5142\n",
              "Fatal Crash         5142\n",
              "Minor Crash         5142\n",
              "Name: crashSeverity, dtype: int64"
            ]
          },
          "metadata": {
            "tags": []
          },
          "execution_count": 17
        }
      ]
    },
    {
      "cell_type": "code",
      "metadata": {
        "id": "HawWaUpo0t-1",
        "colab_type": "code",
        "colab": {}
      },
      "source": [
        "train_undersample=wrangle(train_undersample)\n",
        "test=wrangle(test)\n",
        "\n",
        "X_train_undersample = train_undersample[features]\n",
        "y_train_undersample = train_undersample[target]"
      ],
      "execution_count": null,
      "outputs": []
    },
    {
      "cell_type": "code",
      "metadata": {
        "id": "JYvrfc3I1Nom",
        "colab_type": "code",
        "colab": {
          "base_uri": "https://localhost:8080/",
          "height": 797
        },
        "outputId": "5fb10a2a-839f-41b2-e362-9b2af0797df4"
      },
      "source": [
        "%%time\n",
        "pipeline = make_pipeline(\n",
        "    ce.ordinal.OrdinalEncoder(),\n",
        "    SimpleImputer(), \n",
        "    StandardScaler(),\n",
        "    LogisticRegression()\n",
        ")\n",
        "\n",
        "pipeline.fit(X_train_undersample, y_train_undersample)\n",
        "\n",
        "print(classification_report(y_test, pipeline.predict(X_test)))\n",
        "\n",
        "print(f'Train accuracy: {pipeline.score(X_train, y_train):.4%}')\n",
        "print(f'Test accuracy: {pipeline.score(X_test, y_test):.4%}')\n",
        "plot_confusion_matrix(pipeline, X_test, y_test, \n",
        "                      xticks_rotation='vertical', \n",
        "                      normalize='true',\n",
        "                      values_format='.2f',\n",
        "                      cmap='Blues');"
      ],
      "execution_count": null,
      "outputs": [
        {
          "output_type": "stream",
          "text": [
            "/usr/local/lib/python3.6/dist-packages/sklearn/linear_model/_logistic.py:940: ConvergenceWarning:\n",
            "\n",
            "lbfgs failed to converge (status=1):\n",
            "STOP: TOTAL NO. of ITERATIONS REACHED LIMIT.\n",
            "\n",
            "Increase the number of iterations (max_iter) or scale the data as shown in:\n",
            "    https://scikit-learn.org/stable/modules/preprocessing.html\n",
            "Please also refer to the documentation for alternative solver options:\n",
            "    https://scikit-learn.org/stable/modules/linear_model.html#logistic-regression\n",
            "\n"
          ],
          "name": "stderr"
        },
        {
          "output_type": "stream",
          "text": [
            "                  precision    recall  f1-score   support\n",
            "\n",
            "     Fatal Crash       0.01      0.65      0.03      1286\n",
            "     Minor Crash       0.24      0.14      0.18     31690\n",
            "Non-Injury Crash       0.79      0.30      0.44    100367\n",
            "   Serious Crash       0.07      0.22      0.10      7822\n",
            "\n",
            "        accuracy                           0.26    141165\n",
            "       macro avg       0.28      0.33      0.19    141165\n",
            "    weighted avg       0.62      0.26      0.36    141165\n",
            "\n",
            "Train accuracy: 26.9765%\n",
            "Test accuracy: 26.3606%\n",
            "CPU times: user 17.5 s, sys: 1.71 s, total: 19.2 s\n",
            "Wall time: 16.6 s\n"
          ],
          "name": "stdout"
        },
        {
          "output_type": "display_data",
          "data": {
            "image/png": "[encoded data removed]",
            "text/plain": [
              "<Figure size 432x288 with 2 Axes>"
            ]
          },
          "metadata": {
            "tags": [],
            "needs_background": "light"
          }
        }
      ]
    },
    {
      "cell_type": "code",
      "metadata": {
        "id": "SJDDXXh51QBE",
        "colab_type": "code",
        "colab": {
          "base_uri": "https://localhost:8080/",
          "height": 620
        },
        "outputId": "d091aa16-25d4-4342-823a-7f8436d9508f"
      },
      "source": [
        "%%time\n",
        "pipeline = make_pipeline(\n",
        "    ce.ordinal.OrdinalEncoder(),\n",
        "    SimpleImputer(strategy='median'), \n",
        "    DecisionTreeClassifier()\n",
        ")\n",
        "\n",
        "pipeline.fit(X_train_undersample, y_train_undersample)\n",
        "\n",
        "print(classification_report(y_test, pipeline.predict(X_test)))\n",
        "\n",
        "print(f'Train accuracy: {pipeline.score(X_train, y_train):.4%}')\n",
        "print(f'Test accuracy: {pipeline.score(X_test, y_test):.4%}')\n",
        "plot_confusion_matrix(pipeline, X_test, y_test, \n",
        "                      xticks_rotation='vertical', \n",
        "                      normalize='true',\n",
        "                      values_format='.2f',\n",
        "                      cmap='Blues');"
      ],
      "execution_count": null,
      "outputs": [
        {
          "output_type": "stream",
          "text": [
            "                  precision    recall  f1-score   support\n",
            "\n",
            "     Fatal Crash       0.02      0.44      0.04      1286\n",
            "     Minor Crash       0.23      0.27      0.24     31690\n",
            "Non-Injury Crash       0.77      0.34      0.47    100367\n",
            "   Serious Crash       0.07      0.26      0.11      7822\n",
            "\n",
            "        accuracy                           0.32    141165\n",
            "       macro avg       0.27      0.33      0.21    141165\n",
            "    weighted avg       0.60      0.32      0.40    141165\n",
            "\n",
            "Train accuracy: 34.3834%\n",
            "Test accuracy: 31.8825%\n",
            "CPU times: user 15 s, sys: 55.9 ms, total: 15 s\n",
            "Wall time: 15.1 s\n"
          ],
          "name": "stdout"
        },
        {
          "output_type": "display_data",
          "data": {
            "image/png": "[encoded data removed]",
            "text/plain": [
              "<Figure size 432x288 with 2 Axes>"
            ]
          },
          "metadata": {
            "tags": [],
            "needs_background": "light"
          }
        }
      ]
    },
    {
      "cell_type": "code",
      "metadata": {
        "id": "qoBftjZi1R8D",
        "colab_type": "code",
        "colab": {
          "base_uri": "https://localhost:8080/",
          "height": 620
        },
        "outputId": "f70c89b5-cf55-4deb-9714-e7a73b2679fc"
      },
      "source": [
        "%%time\n",
        "pipeline = make_pipeline(\n",
        "    ce.ordinal.OrdinalEncoder(),\n",
        "    SimpleImputer(), \n",
        "    RandomForestClassifier(n_estimators=100, n_jobs=-1, random_state=42, max_depth=40, min_samples_leaf=2)\n",
        ")\n",
        "\n",
        "pipeline.fit(X_train_undersample, y_train_undersample)\n",
        "\n",
        "print(classification_report(y_test, pipeline.predict(X_test)))\n",
        "\n",
        "print(f'Train accuracy: {pipeline.score(X_train, y_train):.4%}')\n",
        "print(f'Test accuracy: {pipeline.score(X_test, y_test):.4%}')\n",
        "plot_confusion_matrix(pipeline, X_test, y_test, \n",
        "                      xticks_rotation='vertical', \n",
        "                      normalize='true',\n",
        "                      values_format='.2f',\n",
        "                      cmap='Blues');"
      ],
      "execution_count": null,
      "outputs": [
        {
          "output_type": "stream",
          "text": [
            "                  precision    recall  f1-score   support\n",
            "\n",
            "     Fatal Crash       0.02      0.64      0.04      1286\n",
            "     Minor Crash       0.24      0.23      0.24     31690\n",
            "Non-Injury Crash       0.83      0.42      0.56    100367\n",
            "   Serious Crash       0.09      0.24      0.13      7822\n",
            "\n",
            "        accuracy                           0.37    141165\n",
            "       macro avg       0.29      0.38      0.24    141165\n",
            "    weighted avg       0.65      0.37      0.46    141165\n",
            "\n",
            "Train accuracy: 39.7050%\n",
            "Test accuracy: 37.3265%\n",
            "CPU times: user 1min 2s, sys: 221 ms, total: 1min 2s\n",
            "Wall time: 39.1 s\n"
          ],
          "name": "stdout"
        },
        {
          "output_type": "display_data",
          "data": {
            "image/png": "[encoded data removed]",
            "text/plain": [
              "<Figure size 432x288 with 2 Axes>"
            ]
          },
          "metadata": {
            "tags": [],
            "needs_background": "light"
          }
        }
      ]
    },
    {
      "cell_type": "code",
      "metadata": {
        "id": "cAHAwpOH54vU",
        "colab_type": "code",
        "colab": {
          "base_uri": "https://localhost:8080/",
          "height": 34
        },
        "outputId": "96a65865-e41e-42df-e4be-6ffa54bdd8a7"
      },
      "source": [
        "(65+23+42+25)/4"
      ],
      "execution_count": null,
      "outputs": [
        {
          "output_type": "execute_result",
          "data": {
            "text/plain": [
              "38.75"
            ]
          },
          "metadata": {
            "tags": []
          },
          "execution_count": 22
        }
      ]
    },
    {
      "cell_type": "code",
      "metadata": {
        "id": "M8gIpnJS1TqG",
        "colab_type": "code",
        "colab": {
          "base_uri": "https://localhost:8080/",
          "height": 620
        },
        "outputId": "b3d5066b-4176-4bde-b551-8766b60c3747"
      },
      "source": [
        "%%time\n",
        "pipeline = make_pipeline(\n",
        "    ce.ordinal.OrdinalEncoder(),\n",
        "    XGBClassifier(n_estimators=100, random_state=42, n_jobs=-1)\n",
        ")\n",
        "\n",
        "pipeline.fit(X_train_undersample, y_train_undersample)\n",
        "\n",
        "print(classification_report(y_test, pipeline.predict(X_test)))\n",
        "\n",
        "print(f'Train accuracy: {pipeline.score(X_train, y_train):.4%}')\n",
        "print(f'Test accuracy: {pipeline.score(X_test, y_test):.4%}')\n",
        "plot_confusion_matrix(pipeline, X_test, y_test, \n",
        "                      xticks_rotation='vertical', \n",
        "                      normalize='true',\n",
        "                      values_format='.2f',\n",
        "                      cmap='Blues');"
      ],
      "execution_count": null,
      "outputs": [
        {
          "output_type": "stream",
          "text": [
            "                  precision    recall  f1-score   support\n",
            "\n",
            "     Fatal Crash       0.02      0.67      0.03      1286\n",
            "     Minor Crash       0.22      0.15      0.18     31690\n",
            "Non-Injury Crash       0.82      0.34      0.48    100367\n",
            "   Serious Crash       0.07      0.20      0.10      7822\n",
            "\n",
            "        accuracy                           0.29    141165\n",
            "       macro avg       0.28      0.34      0.20    141165\n",
            "    weighted avg       0.63      0.29      0.38    141165\n",
            "\n",
            "Train accuracy: 30.5397%\n",
            "Test accuracy: 29.1085%\n",
            "CPU times: user 48.8 s, sys: 68.9 ms, total: 48.9 s\n",
            "Wall time: 31.2 s\n"
          ],
          "name": "stdout"
        },
        {
          "output_type": "display_data",
          "data": {
            "image/png": "[encoded data removed]",
            "text/plain": [
              "<Figure size 432x288 with 2 Axes>"
            ]
          },
          "metadata": {
            "tags": [],
            "needs_background": "light"
          }
        }
      ]
    },
    {
      "cell_type": "code",
      "metadata": {
        "id": "HJdrcb105zgH",
        "colab_type": "code",
        "colab": {
          "base_uri": "https://localhost:8080/",
          "height": 34
        },
        "outputId": "bcccfdfb-1182-4151-dc95-d0fe89c0b61c"
      },
      "source": [
        "(67+16+36+21)/4"
      ],
      "execution_count": null,
      "outputs": [
        {
          "output_type": "execute_result",
          "data": {
            "text/plain": [
              "35.0"
            ]
          },
          "metadata": {
            "tags": []
          },
          "execution_count": 24
        }
      ]
    },
    {
      "cell_type": "code",
      "metadata": {
        "id": "TqIeJ3S82QbU",
        "colab_type": "code",
        "colab": {}
      },
      "source": [
        "Fatal_Crash = train[train[target]=='Fatal Crash']\n",
        "Fatal_Crash=Fatal_Crash.append(Fatal_Crash)\n",
        "\n",
        "Serious_Crash = train[train[target]=='Serious Crash'].sample(Fatal_Crash.shape[0])\n",
        "Minor_Crash = train[train[target]=='Minor Crash'].sample(Fatal_Crash.shape[0])\n",
        "Non_Injury_Crash = train[train[target]=='Non-Injury Crash'].sample(Fatal_Crash.shape[0])\n",
        "\n",
        "train_undersample  = pd.concat([Fatal_Crash,\n",
        "                    Serious_Crash,\n",
        "                    Minor_Crash,\n",
        "                    Non_Injury_Crash],\n",
        "                            axis=0)"
      ],
      "execution_count": null,
      "outputs": []
    },
    {
      "cell_type": "code",
      "metadata": {
        "id": "5F5thAWT2ZN6",
        "colab_type": "code",
        "colab": {}
      },
      "source": [
        "Fatal_Crash = train[train[target]=='Fatal Crash']\n",
        "Fatal_Crash_over_under=Fatal_Crash.append(Fatal_Crash)\n",
        "Fatal_Crash_over_under=Fatal_Crash_over_under.append(Fatal_Crash)\n",
        "Fatal_Crash_over_under=Fatal_Crash_over_under.append(Fatal_Crash)\n",
        "Fatal_Crash_over_under=Fatal_Crash_over_under.append(Fatal_Crash)\n",
        "\n",
        "Serious_Crash_over_under = train[train[target]=='Serious Crash'].sample(Fatal_Crash_over_under.shape[0])\n",
        "Minor_Crash_over_under = train[train[target]=='Minor Crash'].sample(Fatal_Crash_over_under.shape[0])\n",
        "Non_Injury_Crash_over_under = train[train[target]=='Non-Injury Crash'].sample(Fatal_Crash_over_under.shape[0])\n",
        "\n",
        "train_over_under  = pd.concat([Fatal_Crash_over_under,\n",
        "                    Serious_Crash_over_under,\n",
        "                    Minor_Crash_over_under,\n",
        "                    Non_Injury_Crash_over_under],\n",
        "                            axis=0)"
      ],
      "execution_count": null,
      "outputs": []
    },
    {
      "cell_type": "code",
      "metadata": {
        "id": "VsiV6wQb3VrJ",
        "colab_type": "code",
        "colab": {}
      },
      "source": [
        "train_undersample=wrangle(train_undersample)\n",
        "\n",
        "X_train_over_under = train_over_under[features]\n",
        "y_train_over_under = train_over_under[target]"
      ],
      "execution_count": null,
      "outputs": []
    },
    {
      "cell_type": "code",
      "metadata": {
        "id": "bf_L0fiN3RvI",
        "colab_type": "code",
        "colab": {
          "base_uri": "https://localhost:8080/",
          "height": 797
        },
        "outputId": "bddeadab-9dd0-4b78-98fd-bf61987c2f0c"
      },
      "source": [
        "%%time\n",
        "pipeline = make_pipeline(\n",
        "    ce.ordinal.OrdinalEncoder(),\n",
        "    SimpleImputer(), \n",
        "    StandardScaler(),\n",
        "    LogisticRegression()\n",
        ")\n",
        "\n",
        "pipeline.fit(X_train_over_under, y_train_over_under)\n",
        "\n",
        "print(classification_report(y_test, pipeline.predict(X_test)))\n",
        "\n",
        "print(f'Train accuracy: {pipeline.score(X_train, y_train):.4%}')\n",
        "print(f'Test accuracy: {pipeline.score(X_test, y_test):.4%}')\n",
        "plot_confusion_matrix(pipeline, X_test, y_test, \n",
        "                      xticks_rotation='vertical', \n",
        "                      normalize='true',\n",
        "                      values_format='.2f',\n",
        "                      cmap='Blues');"
      ],
      "execution_count": null,
      "outputs": [
        {
          "output_type": "stream",
          "text": [
            "/usr/local/lib/python3.6/dist-packages/sklearn/linear_model/_logistic.py:940: ConvergenceWarning:\n",
            "\n",
            "lbfgs failed to converge (status=1):\n",
            "STOP: TOTAL NO. of ITERATIONS REACHED LIMIT.\n",
            "\n",
            "Increase the number of iterations (max_iter) or scale the data as shown in:\n",
            "    https://scikit-learn.org/stable/modules/preprocessing.html\n",
            "Please also refer to the documentation for alternative solver options:\n",
            "    https://scikit-learn.org/stable/modules/linear_model.html#logistic-regression\n",
            "\n"
          ],
          "name": "stderr"
        },
        {
          "output_type": "stream",
          "text": [
            "                  precision    recall  f1-score   support\n",
            "\n",
            "     Fatal Crash       0.02      0.49      0.03      1286\n",
            "     Minor Crash       0.26      0.17      0.21     31690\n",
            "Non-Injury Crash       0.79      0.43      0.56    100367\n",
            "   Serious Crash       0.08      0.30      0.13      7822\n",
            "\n",
            "        accuracy                           0.37    141165\n",
            "       macro avg       0.29      0.35      0.23    141165\n",
            "    weighted avg       0.63      0.37      0.45    141165\n",
            "\n",
            "Train accuracy: 37.9773%\n",
            "Test accuracy: 36.5211%\n",
            "CPU times: user 29 s, sys: 6.08 s, total: 35.1 s\n",
            "Wall time: 25.5 s\n"
          ],
          "name": "stdout"
        },
        {
          "output_type": "display_data",
          "data": {
            "image/png": "[encoded data removed]",
            "text/plain": [
              "<Figure size 432x288 with 2 Axes>"
            ]
          },
          "metadata": {
            "tags": [],
            "needs_background": "light"
          }
        }
      ]
    },
    {
      "cell_type": "code",
      "metadata": {
        "id": "GYU2-Ouu5pEP",
        "colab_type": "code",
        "colab": {
          "base_uri": "https://localhost:8080/",
          "height": 34
        },
        "outputId": "80ec6144-4af2-49e4-a12d-d216c4092ff9"
      },
      "source": [
        "(47+16+44+30)/4"
      ],
      "execution_count": null,
      "outputs": [
        {
          "output_type": "execute_result",
          "data": {
            "text/plain": [
              "34.25"
            ]
          },
          "metadata": {
            "tags": []
          },
          "execution_count": 29
        }
      ]
    },
    {
      "cell_type": "code",
      "metadata": {
        "id": "GIaAIuTy3rlf",
        "colab_type": "code",
        "colab": {
          "base_uri": "https://localhost:8080/",
          "height": 620
        },
        "outputId": "b13d275d-57be-4ab5-8a2e-c15c15e8e72e"
      },
      "source": [
        "%%time\n",
        "pipeline = make_pipeline(\n",
        "    ce.ordinal.OrdinalEncoder(),\n",
        "    SimpleImputer(strategy='median'), \n",
        "    DecisionTreeClassifier()\n",
        ")\n",
        "\n",
        "pipeline.fit(X_train_over_under, y_train_over_under)\n",
        "\n",
        "print(classification_report(y_test, pipeline.predict(X_test)))\n",
        "\n",
        "print(f'Train accuracy: {pipeline.score(X_train, y_train):.4%}')\n",
        "print(f'Test accuracy: {pipeline.score(X_test, y_test):.4%}')\n",
        "plot_confusion_matrix(pipeline, X_test, y_test, \n",
        "                      xticks_rotation='vertical', \n",
        "                      normalize='true',\n",
        "                      values_format='.2f',\n",
        "                      cmap='Blues');"
      ],
      "execution_count": null,
      "outputs": [
        {
          "output_type": "stream",
          "text": [
            "                  precision    recall  f1-score   support\n",
            "\n",
            "     Fatal Crash       0.03      0.14      0.04      1286\n",
            "     Minor Crash       0.23      0.33      0.27     31690\n",
            "Non-Injury Crash       0.77      0.40      0.53    100367\n",
            "   Serious Crash       0.08      0.36      0.13      7822\n",
            "\n",
            "        accuracy                           0.38    141165\n",
            "       macro avg       0.28      0.31      0.24    141165\n",
            "    weighted avg       0.60      0.38      0.44    141165\n",
            "\n",
            "Train accuracy: 47.4548%\n",
            "Test accuracy: 37.9910%\n",
            "CPU times: user 19.2 s, sys: 68.2 ms, total: 19.3 s\n",
            "Wall time: 19.3 s\n"
          ],
          "name": "stdout"
        },
        {
          "output_type": "display_data",
          "data": {
            "image/png": "[encoded data removed]",
            "text/plain": [
              "<Figure size 432x288 with 2 Axes>"
            ]
          },
          "metadata": {
            "tags": [],
            "needs_background": "light"
          }
        }
      ]
    },
    {
      "cell_type": "code",
      "metadata": {
        "id": "6K1uZrXx5icF",
        "colab_type": "code",
        "colab": {
          "base_uri": "https://localhost:8080/",
          "height": 34
        },
        "outputId": "60e1653e-81a3-46f3-eda0-4782d918e32f"
      },
      "source": [
        "(15+33+40+36)/4"
      ],
      "execution_count": null,
      "outputs": [
        {
          "output_type": "execute_result",
          "data": {
            "text/plain": [
              "31.0"
            ]
          },
          "metadata": {
            "tags": []
          },
          "execution_count": 31
        }
      ]
    },
    {
      "cell_type": "code",
      "metadata": {
        "id": "7Url49AU3tJF",
        "colab_type": "code",
        "colab": {
          "base_uri": "https://localhost:8080/",
          "height": 620
        },
        "outputId": "54314e2a-27d4-4bb6-cf33-31aa81041465"
      },
      "source": [
        "%%time\n",
        "pipeline = make_pipeline(\n",
        "    ce.ordinal.OrdinalEncoder(),\n",
        "    SimpleImputer(), \n",
        "    RandomForestClassifier(n_estimators=100, n_jobs=-1, random_state=42, max_depth=40, min_samples_leaf=2)\n",
        ")\n",
        "\n",
        "pipeline.fit(X_train_over_under, y_train_over_under)\n",
        "\n",
        "print(classification_report(y_test, pipeline.predict(X_test)))\n",
        "\n",
        "print(f'Train accuracy: {pipeline.score(X_train, y_train):.4%}')\n",
        "print(f'Test accuracy: {pipeline.score(X_test, y_test):.4%}')\n",
        "plot_confusion_matrix(pipeline, X_test, y_test, \n",
        "                      xticks_rotation='vertical', \n",
        "                      normalize='true',\n",
        "                      values_format='.2f',\n",
        "                      cmap='Blues');"
      ],
      "execution_count": null,
      "outputs": [
        {
          "output_type": "stream",
          "text": [
            "                  precision    recall  f1-score   support\n",
            "\n",
            "     Fatal Crash       0.04      0.36      0.07      1286\n",
            "     Minor Crash       0.28      0.26      0.27     31690\n",
            "Non-Injury Crash       0.84      0.58      0.68    100367\n",
            "   Serious Crash       0.12      0.47      0.19      7822\n",
            "\n",
            "        accuracy                           0.50    141165\n",
            "       macro avg       0.32      0.42      0.30    141165\n",
            "    weighted avg       0.67      0.50      0.56    141165\n",
            "\n",
            "Train accuracy: 58.0108%\n",
            "Test accuracy: 49.7878%\n",
            "CPU times: user 2min 3s, sys: 285 ms, total: 2min 3s\n",
            "Wall time: 1min 12s\n"
          ],
          "name": "stdout"
        },
        {
          "output_type": "display_data",
          "data": {
            "image/png": "[encoded data removed]",
            "text/plain": [
              "<Figure size 432x288 with 2 Axes>"
            ]
          },
          "metadata": {
            "tags": [],
            "needs_background": "light"
          }
        }
      ]
    },
    {
      "cell_type": "code",
      "metadata": {
        "id": "BJv2bqe55cPo",
        "colab_type": "code",
        "colab": {
          "base_uri": "https://localhost:8080/",
          "height": 34
        },
        "outputId": "498d2dce-140c-4766-fd75-c9f58b45fcdc"
      },
      "source": [
        "(34+25+58+48)/4"
      ],
      "execution_count": null,
      "outputs": [
        {
          "output_type": "execute_result",
          "data": {
            "text/plain": [
              "41.25"
            ]
          },
          "metadata": {
            "tags": []
          },
          "execution_count": 33
        }
      ]
    },
    {
      "cell_type": "code",
      "metadata": {
        "id": "iiTqj7sJ3uhr",
        "colab_type": "code",
        "colab": {
          "base_uri": "https://localhost:8080/",
          "height": 620
        },
        "outputId": "560e8659-65fe-4160-d5c3-397d795ab39c"
      },
      "source": [
        "%%time\n",
        "pipeline = make_pipeline(\n",
        "    ce.ordinal.OrdinalEncoder(),\n",
        "    XGBClassifier(n_estimators=100, random_state=42, n_jobs=-1)\n",
        ")\n",
        "\n",
        "pipeline.fit(X_train_over_under, y_train_over_under)\n",
        "\n",
        "print(classification_report(y_test, pipeline.predict(X_test)))\n",
        "\n",
        "print(f'Train accuracy: {pipeline.score(X_train, y_train):.4%}')\n",
        "print(f'Test accuracy: {pipeline.score(X_test, y_test):.4%}')\n",
        "plot_confusion_matrix(pipeline, X_test, y_test, \n",
        "                      xticks_rotation='vertical', \n",
        "                      normalize='true',\n",
        "                      values_format='.2f',\n",
        "                      cmap='Blues');"
      ],
      "execution_count": null,
      "outputs": [
        {
          "output_type": "stream",
          "text": [
            "                  precision    recall  f1-score   support\n",
            "\n",
            "     Fatal Crash       0.02      0.48      0.04      1286\n",
            "     Minor Crash       0.24      0.14      0.17     31690\n",
            "Non-Injury Crash       0.83      0.49      0.62    100367\n",
            "   Serious Crash       0.10      0.39      0.16      7822\n",
            "\n",
            "        accuracy                           0.41    141165\n",
            "       macro avg       0.30      0.38      0.25    141165\n",
            "    weighted avg       0.65      0.41      0.49    141165\n",
            "\n",
            "Train accuracy: 43.6072%\n",
            "Test accuracy: 40.7537%\n",
            "CPU times: user 2min 12s, sys: 215 ms, total: 2min 13s\n",
            "Wall time: 1min 14s\n"
          ],
          "name": "stdout"
        },
        {
          "output_type": "display_data",
          "data": {
            "image/png": "[encoded data removed]",
            "text/plain": [
              "<Figure size 432x288 with 2 Axes>"
            ]
          },
          "metadata": {
            "tags": [],
            "needs_background": "light"
          }
        }
      ]
    },
    {
      "cell_type": "code",
      "metadata": {
        "id": "gPyv6hj85Nv_",
        "colab_type": "code",
        "colab": {
          "base_uri": "https://localhost:8080/",
          "height": 34
        },
        "outputId": "31242478-5762-4228-af5c-cd8923ed91db"
      },
      "source": [
        "(47+13+49+39)/4"
      ],
      "execution_count": null,
      "outputs": [
        {
          "output_type": "execute_result",
          "data": {
            "text/plain": [
              "37.0"
            ]
          },
          "metadata": {
            "tags": []
          },
          "execution_count": 35
        },
        {
          "output_type": "execute_result",
          "data": {
            "text/plain": [
              "37.0"
            ]
          },
          "metadata": {
            "tags": []
          },
          "execution_count": 35
        },
        {
          "output_type": "execute_result",
          "data": {
            "text/plain": [
              "37.0"
            ]
          },
          "metadata": {
            "tags": []
          },
          "execution_count": 35
        }
      ]
    },
    {
      "cell_type": "code",
      "metadata": {
        "id": "vd3spQSpNBFr",
        "colab_type": "code",
        "colab": {}
      },
      "source": [
        "#=================================================== XGB HYPER PARAMITER TUNING SPACE ==================================================="
      ],
      "execution_count": null,
      "outputs": []
    },
    {
      "cell_type": "code",
      "metadata": {
        "id": "At7lul_xLvWE",
        "colab_type": "code",
        "colab": {
          "base_uri": "https://localhost:8080/",
          "height": 620
        },
        "outputId": "fd86de26-622a-490c-df16-233203a4b759"
      },
      "source": [
        "%%time\n",
        "pipeline = make_pipeline(\n",
        "    ce.ordinal.OrdinalEncoder(),\n",
        "    XGBClassifier(n_estimators=100, random_state=42, n_jobs=-1,max_depth=4,min_child_weight=.5,subsample=.05,colsample_bytree=.1,learning_rate=.05)\n",
        ")\n",
        "\n",
        "pipeline.fit(X_train_over_under, y_train_over_under)\n",
        "\n",
        "print(classification_report(y_test, pipeline.predict(X_test)))\n",
        "\n",
        "print(f'Train accuracy: {pipeline.score(X_train, y_train):.4%}')\n",
        "print(f'Test accuracy: {pipeline.score(X_test, y_test):.4%}')\n",
        "plot_confusion_matrix(pipeline, X_test, y_test, \n",
        "                      xticks_rotation='vertical', \n",
        "                      normalize='true',\n",
        "                      values_format='.2f',\n",
        "                      cmap='Blues');"
      ],
      "execution_count": null,
      "outputs": [
        {
          "output_type": "stream",
          "text": [
            "                  precision    recall  f1-score   support\n",
            "\n",
            "     Fatal Crash       0.03      0.62      0.06      1286\n",
            "     Minor Crash       0.30      0.19      0.23     31690\n",
            "Non-Injury Crash       0.83      0.58      0.68    100367\n",
            "   Serious Crash       0.11      0.33      0.16      7822\n",
            "\n",
            "        accuracy                           0.48    141165\n",
            "       macro avg       0.32      0.43      0.28    141165\n",
            "    weighted avg       0.66      0.48      0.55    141165\n",
            "\n",
            "Train accuracy: 49.6206%\n",
            "Test accuracy: 47.6726%\n",
            "CPU times: user 1min 13s, sys: 129 ms, total: 1min 13s\n",
            "Wall time: 44.8 s\n"
          ],
          "name": "stdout"
        },
        {
          "output_type": "display_data",
          "data": {
            "image/png": "[encoded data removed]",
            "text/plain": [
              "<Figure size 432x288 with 2 Axes>"
            ]
          },
          "metadata": {
            "tags": [],
            "needs_background": "light"
          }
        }
      ]
    },
    {
      "cell_type": "code",
      "metadata": {
        "id": "sFEsoomYf25R",
        "colab_type": "code",
        "colab": {
          "base_uri": "https://localhost:8080/",
          "height": 335
        },
        "outputId": "46567ff7-9877-4827-9bfe-989af3dd492b"
      },
      "source": [
        "rf = pipeline.named_steps['xgbclassifier']\n",
        "importances = pd.Series(rf.feature_importances_, X_train.columns)\n",
        "n = 10\n",
        "\n",
        "plt.figure(figsize=(10,n/2))\n",
        "plt.title(f'Top {n} features')\n",
        "importances.sort_values()[-n:].plot.barh()\n",
        "plt.show()"
      ],
      "execution_count": null,
      "outputs": [
        {
          "output_type": "display_data",
          "data": {
            "image/png": "[encoded data removed]",
            "text/plain": [
              "<Figure size 720x360 with 1 Axes>"
            ]
          },
          "metadata": {
            "tags": [],
            "needs_background": "light"
          }
        }
      ]
    },
    {
      "cell_type": "code",
      "metadata": {
        "id": "GImsATVvjRPY",
        "colab_type": "code",
        "colab": {
          "base_uri": "https://localhost:8080/",
          "height": 335
        },
        "outputId": "ffb8edde-371e-46ca-f8d7-e324ae4b58d6"
      },
      "source": [
        "rf = pipeline.named_steps['xgbclassifier']\n",
        "importances = pd.Series(rf.feature_importances_, X_train.columns)\n",
        "n = 10\n",
        "\n",
        "plt.figure(figsize=(10,n/2))\n",
        "plt.title(f'Top {n} features')\n",
        "importances.sort_values()[:n].plot.barh()\n",
        "plt.show()"
      ],
      "execution_count": null,
      "outputs": [
        {
          "output_type": "display_data",
          "data": {
            "image/png": "[encoded data removed]",
            "text/plain": [
              "<Figure size 720x360 with 1 Axes>"
            ]
          },
          "metadata": {
            "tags": [],
            "needs_background": "light"
          }
        }
      ]
    },
    {
      "cell_type": "code",
      "metadata": {
        "id": "iEWzD7vljYak",
        "colab_type": "code",
        "colab": {
          "base_uri": "https://localhost:8080/",
          "height": 34
        },
        "outputId": "772e75ee-d57b-49a3-f450-12bb350de293"
      },
      "source": [
        "X_train['strayAnimal'].nunique()"
      ],
      "execution_count": null,
      "outputs": [
        {
          "output_type": "execute_result",
          "data": {
            "text/plain": [
              "3"
            ]
          },
          "metadata": {
            "tags": []
          },
          "execution_count": 74
        }
      ]
    },
    {
      "cell_type": "code",
      "metadata": {
        "id": "PTLlBaaKjgAm",
        "colab_type": "code",
        "colab": {
          "base_uri": "https://localhost:8080/",
          "height": 87
        },
        "outputId": "2fbb50ed-cf45-4dda-a12b-081424bb224e"
      },
      "source": [
        "X_train['strayAnimal'].value_counts()"
      ],
      "execution_count": null,
      "outputs": [
        {
          "output_type": "execute_result",
          "data": {
            "text/plain": [
              "1.0    120\n",
              "2.0     11\n",
              "3.0      1\n",
              "Name: strayAnimal, dtype: int64"
            ]
          },
          "metadata": {
            "tags": []
          },
          "execution_count": 76
        }
      ]
    },
    {
      "cell_type": "code",
      "metadata": {
        "id": "6k1Jv8D-g6wm",
        "colab_type": "code",
        "colab": {
          "base_uri": "https://localhost:8080/",
          "height": 34
        },
        "outputId": "448772cd-1a66-460d-a3f1-7cf49e06f5f0"
      },
      "source": [
        "X_train.shape"
      ],
      "execution_count": null,
      "outputs": [
        {
          "output_type": "execute_result",
          "data": {
            "text/plain": [
              "(564659, 73)"
            ]
          },
          "metadata": {
            "tags": []
          },
          "execution_count": 64
        }
      ]
    },
    {
      "cell_type": "code",
      "metadata": {
        "id": "Ixpcilk5hzPT",
        "colab_type": "code",
        "colab": {
          "base_uri": "https://localhost:8080/",
          "height": 34
        },
        "outputId": "36e791ed-6220-45cc-eada-9560758c0bc8"
      },
      "source": [
        "X_train['crashLocation2'].nunique()"
      ],
      "execution_count": null,
      "outputs": [
        {
          "output_type": "execute_result",
          "data": {
            "text/plain": [
              "43537"
            ]
          },
          "metadata": {
            "tags": []
          },
          "execution_count": 69
        }
      ]
    },
    {
      "cell_type": "code",
      "metadata": {
        "id": "zSVxlLYSinMv",
        "colab_type": "code",
        "colab": {
          "base_uri": "https://localhost:8080/",
          "height": 230
        },
        "outputId": "4c1efd03-01a3-4e5f-8fe5-f65e8f14b14f"
      },
      "source": [
        "X_train['crashLocation2']"
      ],
      "execution_count": null,
      "outputs": [
        {
          "output_type": "execute_result",
          "data": {
            "text/plain": [
              "538234    EAST RIDGE GROVE\n",
              "658422     WEST COAST ROAD\n",
              "527459      GRAFTON ON SBD\n",
              "173852        CENTRAL ROAD\n",
              "333719       GT SOUTH LINK\n",
              "                ...       \n",
              "469870         BIRDWOOD ST\n",
              "510622        WAI ITI ROAD\n",
              "204497         RAGLAN ROAD\n",
              "381825       WAIWHERO ROAD\n",
              "602133       WOOLLCOMBE ST\n",
              "Name: crashLocation2, Length: 564659, dtype: object"
            ]
          },
          "metadata": {
            "tags": []
          },
          "execution_count": 71
        }
      ]
    },
    {
      "cell_type": "code",
      "metadata": {
        "id": "tuKwi3BJikR1",
        "colab_type": "code",
        "colab": {
          "base_uri": "https://localhost:8080/",
          "height": 230
        },
        "outputId": "31fd06ab-2ac7-4743-f0e5-96bdb63948b8"
      },
      "source": [
        "X_train['crashLocation1']"
      ],
      "execution_count": null,
      "outputs": [
        {
          "output_type": "execute_result",
          "data": {
            "text/plain": [
              "538234               SH 26\n",
              "658422    PARRS CROSS ROAD\n",
              "527459               SH 1N\n",
              "173852               SH 36\n",
              "333719    GREAT SOUTH ROAD\n",
              "                ...       \n",
              "469870          CHAYTOR ST\n",
              "510622                SH 2\n",
              "204497               SH 31\n",
              "381825        EDWARDS ROAD\n",
              "602133           LATTER ST\n",
              "Name: crashLocation1, Length: 564659, dtype: object"
            ]
          },
          "metadata": {
            "tags": []
          },
          "execution_count": 72
        }
      ]
    }
  ]
}